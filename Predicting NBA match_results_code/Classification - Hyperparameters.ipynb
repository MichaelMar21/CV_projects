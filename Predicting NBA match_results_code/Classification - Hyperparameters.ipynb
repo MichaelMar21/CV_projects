{
  "cells": [
    {
      "cell_type": "code",
      "execution_count": null,
      "metadata": {
        "id": "jBWtJkJgrHCR",
        "colab": {
          "base_uri": "https://localhost:8080/"
        },
        "outputId": "0d97ee1c-1446-4725-ad82-1aeae411cdad"
      },
      "outputs": [
        {
          "output_type": "stream",
          "name": "stdout",
          "text": [
            "\u001b[?25l     \u001b[90m━━━━━━━━━━━━━━━━━━━━━━━━━━━━━━━━━━━━━━━━\u001b[0m \u001b[32m0.0/128.9 kB\u001b[0m \u001b[31m?\u001b[0m eta \u001b[36m-:--:--\u001b[0m\r\u001b[2K     \u001b[90m━━━━━━━━━━━━━━━━━━━━━━━━━━━━━━━━━━━━━━━━\u001b[0m \u001b[32m128.9/128.9 kB\u001b[0m \u001b[31m3.9 MB/s\u001b[0m eta \u001b[36m0:00:00\u001b[0m\n",
            "\u001b[?25h"
          ]
        }
      ],
      "source": [
        "pip install -q -U keras-tuner"
      ]
    },
    {
      "cell_type": "code",
      "execution_count": null,
      "metadata": {
        "id": "LxaHUqRPm526"
      },
      "outputs": [],
      "source": [
        "import tensorflow as tf\n",
        "import pandas as pd\n",
        "import numpy as np\n",
        "import matplotlib.pyplot as plt\n",
        "from tensorflow.keras.layers import Dense, Embedding, Reshape, Input, concatenate, Flatten, Dropout\n",
        "from tensorflow.keras.models import Model\n",
        "from tensorflow.keras.optimizers import Adam\n",
        "import keras_tuner as kt"
      ]
    },
    {
      "cell_type": "code",
      "execution_count": null,
      "metadata": {
        "colab": {
          "base_uri": "https://localhost:8080/"
        },
        "id": "2RTuY2QE8UfK",
        "outputId": "acae6c17-2b95-43ab-f6ac-150a8bb08c61"
      },
      "outputs": [
        {
          "output_type": "stream",
          "name": "stdout",
          "text": [
            "Drive already mounted at /content/drive; to attempt to forcibly remount, call drive.mount(\"/content/drive\", force_remount=True).\n"
          ]
        },
        {
          "output_type": "execute_result",
          "data": {
            "text/plain": [
              "array(['GAME_DATE_EST', 'GAME_ID', 'GAME_STATUS_TEXT', 'HOME_TEAM_ID',\n",
              "       'VISITOR_TEAM_ID', 'SEASON', 'TEAM_ID_home', 'PTS_home',\n",
              "       'FG_PCT_home', 'FT_PCT_home', 'FG3_PCT_home', 'AST_home',\n",
              "       'REB_home', 'TEAM_ID_away', 'PTS_away', 'FG_PCT_away',\n",
              "       'FT_PCT_away', 'FG3_PCT_away', 'AST_away', 'REB_away',\n",
              "       'HOME_TEAM_WINS'], dtype=object)"
            ]
          },
          "metadata": {},
          "execution_count": 117
        }
      ],
      "source": [
        "from google.colab import drive\n",
        "drive.mount('/content/drive')\n",
        "games = pd.read_csv(r'/content/drive/MyDrive/games.csv')\n",
        "games.columns.values"
      ]
    },
    {
      "cell_type": "code",
      "execution_count": null,
      "metadata": {
        "colab": {
          "base_uri": "https://localhost:8080/",
          "height": 443
        },
        "id": "9zqfOOcHgRtC",
        "outputId": "14f8bbe0-3a39-4997-dd3e-28af3db80cc0"
      },
      "outputs": [
        {
          "output_type": "execute_result",
          "data": {
            "text/plain": [
              "      GAME_DATE_EST   GAME_ID GAME_STATUS_TEXT  HOME_TEAM_ID  VISITOR_TEAM_ID  \\\n",
              "0        2022-12-22  22200477            Final             0               20   \n",
              "1        2022-12-22  22200478            Final             1               27   \n",
              "2        2022-12-21  22200466            Final             2               21   \n",
              "3        2022-12-21  22200467            Final             3               13   \n",
              "4        2022-12-21  22200468            Final             4               23   \n",
              "...             ...       ...              ...           ...              ...   \n",
              "26646    2014-10-06  11400007            Final             4                0   \n",
              "26647    2014-10-06  11400004            Final            23               27   \n",
              "26648    2014-10-06  11400005            Final            19               16   \n",
              "26649    2014-10-05  11400002            Final            18               11   \n",
              "26650    2014-10-04  11400001            Final            14                0   \n",
              "\n",
              "       SEASON  TEAM_ID_home  PTS_home  FG_PCT_home  FT_PCT_home  ...  \\\n",
              "0        2022             0     126.0        0.484        0.926  ...   \n",
              "1        2022             1     120.0        0.488        0.952  ...   \n",
              "2        2022             2     114.0        0.482        0.786  ...   \n",
              "3        2022             3     113.0        0.441        0.909  ...   \n",
              "4        2022             4     108.0        0.429        1.000  ...   \n",
              "...       ...           ...       ...          ...          ...  ...   \n",
              "26646    2014             4      93.0        0.419        0.821  ...   \n",
              "26647    2014            23      81.0        0.338        0.719  ...   \n",
              "26648    2014            19      98.0        0.448        0.682  ...   \n",
              "26649    2014            18      99.0        0.440        0.771  ...   \n",
              "26650    2014            14      86.0        0.431        0.679  ...   \n",
              "\n",
              "       AST_home  REB_home  TEAM_ID_away  PTS_away  FG_PCT_away  FT_PCT_away  \\\n",
              "0          25.0      46.0            20     117.0        0.478        0.815   \n",
              "1          16.0      40.0            27     112.0        0.561        0.765   \n",
              "2          22.0      37.0            21     106.0        0.470        0.682   \n",
              "3          27.0      49.0            13      93.0        0.392        0.735   \n",
              "4          22.0      47.0            23     110.0        0.500        0.773   \n",
              "...         ...       ...           ...       ...          ...          ...   \n",
              "26646      24.0      50.0             0      87.0        0.366        0.643   \n",
              "26647      18.0      40.0            27      85.0        0.411        0.636   \n",
              "26648      29.0      45.0            16      95.0        0.387        0.659   \n",
              "26649      21.0      30.0            11      94.0        0.469        0.725   \n",
              "26650      18.0      42.0             0      98.0        0.462        0.706   \n",
              "\n",
              "       FG3_PCT_away  AST_away  REB_away  HOME_TEAM_WINS  \n",
              "0             0.321      23.0      44.0               1  \n",
              "1             0.333      20.0      37.0               1  \n",
              "2             0.433      20.0      46.0               1  \n",
              "3             0.261      15.0      46.0               1  \n",
              "4             0.292      20.0      47.0               0  \n",
              "...             ...       ...       ...             ...  \n",
              "26646         0.375      17.0      43.0               1  \n",
              "26647         0.267      17.0      47.0               0  \n",
              "26648         0.500      19.0      43.0               1  \n",
              "26649         0.385      18.0      45.0               1  \n",
              "26650         0.438      19.0      42.0               0  \n",
              "\n",
              "[26651 rows x 21 columns]"
            ],
            "text/html": [
              "\n",
              "  <div id=\"df-6bb18708-fbdf-4095-972a-8e5500ff9f10\" class=\"colab-df-container\">\n",
              "    <div>\n",
              "<style scoped>\n",
              "    .dataframe tbody tr th:only-of-type {\n",
              "        vertical-align: middle;\n",
              "    }\n",
              "\n",
              "    .dataframe tbody tr th {\n",
              "        vertical-align: top;\n",
              "    }\n",
              "\n",
              "    .dataframe thead th {\n",
              "        text-align: right;\n",
              "    }\n",
              "</style>\n",
              "<table border=\"1\" class=\"dataframe\">\n",
              "  <thead>\n",
              "    <tr style=\"text-align: right;\">\n",
              "      <th></th>\n",
              "      <th>GAME_DATE_EST</th>\n",
              "      <th>GAME_ID</th>\n",
              "      <th>GAME_STATUS_TEXT</th>\n",
              "      <th>HOME_TEAM_ID</th>\n",
              "      <th>VISITOR_TEAM_ID</th>\n",
              "      <th>SEASON</th>\n",
              "      <th>TEAM_ID_home</th>\n",
              "      <th>PTS_home</th>\n",
              "      <th>FG_PCT_home</th>\n",
              "      <th>FT_PCT_home</th>\n",
              "      <th>...</th>\n",
              "      <th>AST_home</th>\n",
              "      <th>REB_home</th>\n",
              "      <th>TEAM_ID_away</th>\n",
              "      <th>PTS_away</th>\n",
              "      <th>FG_PCT_away</th>\n",
              "      <th>FT_PCT_away</th>\n",
              "      <th>FG3_PCT_away</th>\n",
              "      <th>AST_away</th>\n",
              "      <th>REB_away</th>\n",
              "      <th>HOME_TEAM_WINS</th>\n",
              "    </tr>\n",
              "  </thead>\n",
              "  <tbody>\n",
              "    <tr>\n",
              "      <th>0</th>\n",
              "      <td>2022-12-22</td>\n",
              "      <td>22200477</td>\n",
              "      <td>Final</td>\n",
              "      <td>0</td>\n",
              "      <td>20</td>\n",
              "      <td>2022</td>\n",
              "      <td>0</td>\n",
              "      <td>126.0</td>\n",
              "      <td>0.484</td>\n",
              "      <td>0.926</td>\n",
              "      <td>...</td>\n",
              "      <td>25.0</td>\n",
              "      <td>46.0</td>\n",
              "      <td>20</td>\n",
              "      <td>117.0</td>\n",
              "      <td>0.478</td>\n",
              "      <td>0.815</td>\n",
              "      <td>0.321</td>\n",
              "      <td>23.0</td>\n",
              "      <td>44.0</td>\n",
              "      <td>1</td>\n",
              "    </tr>\n",
              "    <tr>\n",
              "      <th>1</th>\n",
              "      <td>2022-12-22</td>\n",
              "      <td>22200478</td>\n",
              "      <td>Final</td>\n",
              "      <td>1</td>\n",
              "      <td>27</td>\n",
              "      <td>2022</td>\n",
              "      <td>1</td>\n",
              "      <td>120.0</td>\n",
              "      <td>0.488</td>\n",
              "      <td>0.952</td>\n",
              "      <td>...</td>\n",
              "      <td>16.0</td>\n",
              "      <td>40.0</td>\n",
              "      <td>27</td>\n",
              "      <td>112.0</td>\n",
              "      <td>0.561</td>\n",
              "      <td>0.765</td>\n",
              "      <td>0.333</td>\n",
              "      <td>20.0</td>\n",
              "      <td>37.0</td>\n",
              "      <td>1</td>\n",
              "    </tr>\n",
              "    <tr>\n",
              "      <th>2</th>\n",
              "      <td>2022-12-21</td>\n",
              "      <td>22200466</td>\n",
              "      <td>Final</td>\n",
              "      <td>2</td>\n",
              "      <td>21</td>\n",
              "      <td>2022</td>\n",
              "      <td>2</td>\n",
              "      <td>114.0</td>\n",
              "      <td>0.482</td>\n",
              "      <td>0.786</td>\n",
              "      <td>...</td>\n",
              "      <td>22.0</td>\n",
              "      <td>37.0</td>\n",
              "      <td>21</td>\n",
              "      <td>106.0</td>\n",
              "      <td>0.470</td>\n",
              "      <td>0.682</td>\n",
              "      <td>0.433</td>\n",
              "      <td>20.0</td>\n",
              "      <td>46.0</td>\n",
              "      <td>1</td>\n",
              "    </tr>\n",
              "    <tr>\n",
              "      <th>3</th>\n",
              "      <td>2022-12-21</td>\n",
              "      <td>22200467</td>\n",
              "      <td>Final</td>\n",
              "      <td>3</td>\n",
              "      <td>13</td>\n",
              "      <td>2022</td>\n",
              "      <td>3</td>\n",
              "      <td>113.0</td>\n",
              "      <td>0.441</td>\n",
              "      <td>0.909</td>\n",
              "      <td>...</td>\n",
              "      <td>27.0</td>\n",
              "      <td>49.0</td>\n",
              "      <td>13</td>\n",
              "      <td>93.0</td>\n",
              "      <td>0.392</td>\n",
              "      <td>0.735</td>\n",
              "      <td>0.261</td>\n",
              "      <td>15.0</td>\n",
              "      <td>46.0</td>\n",
              "      <td>1</td>\n",
              "    </tr>\n",
              "    <tr>\n",
              "      <th>4</th>\n",
              "      <td>2022-12-21</td>\n",
              "      <td>22200468</td>\n",
              "      <td>Final</td>\n",
              "      <td>4</td>\n",
              "      <td>23</td>\n",
              "      <td>2022</td>\n",
              "      <td>4</td>\n",
              "      <td>108.0</td>\n",
              "      <td>0.429</td>\n",
              "      <td>1.000</td>\n",
              "      <td>...</td>\n",
              "      <td>22.0</td>\n",
              "      <td>47.0</td>\n",
              "      <td>23</td>\n",
              "      <td>110.0</td>\n",
              "      <td>0.500</td>\n",
              "      <td>0.773</td>\n",
              "      <td>0.292</td>\n",
              "      <td>20.0</td>\n",
              "      <td>47.0</td>\n",
              "      <td>0</td>\n",
              "    </tr>\n",
              "    <tr>\n",
              "      <th>...</th>\n",
              "      <td>...</td>\n",
              "      <td>...</td>\n",
              "      <td>...</td>\n",
              "      <td>...</td>\n",
              "      <td>...</td>\n",
              "      <td>...</td>\n",
              "      <td>...</td>\n",
              "      <td>...</td>\n",
              "      <td>...</td>\n",
              "      <td>...</td>\n",
              "      <td>...</td>\n",
              "      <td>...</td>\n",
              "      <td>...</td>\n",
              "      <td>...</td>\n",
              "      <td>...</td>\n",
              "      <td>...</td>\n",
              "      <td>...</td>\n",
              "      <td>...</td>\n",
              "      <td>...</td>\n",
              "      <td>...</td>\n",
              "      <td>...</td>\n",
              "    </tr>\n",
              "    <tr>\n",
              "      <th>26646</th>\n",
              "      <td>2014-10-06</td>\n",
              "      <td>11400007</td>\n",
              "      <td>Final</td>\n",
              "      <td>4</td>\n",
              "      <td>0</td>\n",
              "      <td>2014</td>\n",
              "      <td>4</td>\n",
              "      <td>93.0</td>\n",
              "      <td>0.419</td>\n",
              "      <td>0.821</td>\n",
              "      <td>...</td>\n",
              "      <td>24.0</td>\n",
              "      <td>50.0</td>\n",
              "      <td>0</td>\n",
              "      <td>87.0</td>\n",
              "      <td>0.366</td>\n",
              "      <td>0.643</td>\n",
              "      <td>0.375</td>\n",
              "      <td>17.0</td>\n",
              "      <td>43.0</td>\n",
              "      <td>1</td>\n",
              "    </tr>\n",
              "    <tr>\n",
              "      <th>26647</th>\n",
              "      <td>2014-10-06</td>\n",
              "      <td>11400004</td>\n",
              "      <td>Final</td>\n",
              "      <td>23</td>\n",
              "      <td>27</td>\n",
              "      <td>2014</td>\n",
              "      <td>23</td>\n",
              "      <td>81.0</td>\n",
              "      <td>0.338</td>\n",
              "      <td>0.719</td>\n",
              "      <td>...</td>\n",
              "      <td>18.0</td>\n",
              "      <td>40.0</td>\n",
              "      <td>27</td>\n",
              "      <td>85.0</td>\n",
              "      <td>0.411</td>\n",
              "      <td>0.636</td>\n",
              "      <td>0.267</td>\n",
              "      <td>17.0</td>\n",
              "      <td>47.0</td>\n",
              "      <td>0</td>\n",
              "    </tr>\n",
              "    <tr>\n",
              "      <th>26648</th>\n",
              "      <td>2014-10-06</td>\n",
              "      <td>11400005</td>\n",
              "      <td>Final</td>\n",
              "      <td>19</td>\n",
              "      <td>16</td>\n",
              "      <td>2014</td>\n",
              "      <td>19</td>\n",
              "      <td>98.0</td>\n",
              "      <td>0.448</td>\n",
              "      <td>0.682</td>\n",
              "      <td>...</td>\n",
              "      <td>29.0</td>\n",
              "      <td>45.0</td>\n",
              "      <td>16</td>\n",
              "      <td>95.0</td>\n",
              "      <td>0.387</td>\n",
              "      <td>0.659</td>\n",
              "      <td>0.500</td>\n",
              "      <td>19.0</td>\n",
              "      <td>43.0</td>\n",
              "      <td>1</td>\n",
              "    </tr>\n",
              "    <tr>\n",
              "      <th>26649</th>\n",
              "      <td>2014-10-05</td>\n",
              "      <td>11400002</td>\n",
              "      <td>Final</td>\n",
              "      <td>18</td>\n",
              "      <td>11</td>\n",
              "      <td>2014</td>\n",
              "      <td>18</td>\n",
              "      <td>99.0</td>\n",
              "      <td>0.440</td>\n",
              "      <td>0.771</td>\n",
              "      <td>...</td>\n",
              "      <td>21.0</td>\n",
              "      <td>30.0</td>\n",
              "      <td>11</td>\n",
              "      <td>94.0</td>\n",
              "      <td>0.469</td>\n",
              "      <td>0.725</td>\n",
              "      <td>0.385</td>\n",
              "      <td>18.0</td>\n",
              "      <td>45.0</td>\n",
              "      <td>1</td>\n",
              "    </tr>\n",
              "    <tr>\n",
              "      <th>26650</th>\n",
              "      <td>2014-10-04</td>\n",
              "      <td>11400001</td>\n",
              "      <td>Final</td>\n",
              "      <td>14</td>\n",
              "      <td>0</td>\n",
              "      <td>2014</td>\n",
              "      <td>14</td>\n",
              "      <td>86.0</td>\n",
              "      <td>0.431</td>\n",
              "      <td>0.679</td>\n",
              "      <td>...</td>\n",
              "      <td>18.0</td>\n",
              "      <td>42.0</td>\n",
              "      <td>0</td>\n",
              "      <td>98.0</td>\n",
              "      <td>0.462</td>\n",
              "      <td>0.706</td>\n",
              "      <td>0.438</td>\n",
              "      <td>19.0</td>\n",
              "      <td>42.0</td>\n",
              "      <td>0</td>\n",
              "    </tr>\n",
              "  </tbody>\n",
              "</table>\n",
              "<p>26651 rows × 21 columns</p>\n",
              "</div>\n",
              "    <div class=\"colab-df-buttons\">\n",
              "\n",
              "  <div class=\"colab-df-container\">\n",
              "    <button class=\"colab-df-convert\" onclick=\"convertToInteractive('df-6bb18708-fbdf-4095-972a-8e5500ff9f10')\"\n",
              "            title=\"Convert this dataframe to an interactive table.\"\n",
              "            style=\"display:none;\">\n",
              "\n",
              "  <svg xmlns=\"http://www.w3.org/2000/svg\" height=\"24px\" viewBox=\"0 -960 960 960\">\n",
              "    <path d=\"M120-120v-720h720v720H120Zm60-500h600v-160H180v160Zm220 220h160v-160H400v160Zm0 220h160v-160H400v160ZM180-400h160v-160H180v160Zm440 0h160v-160H620v160ZM180-180h160v-160H180v160Zm440 0h160v-160H620v160Z\"/>\n",
              "  </svg>\n",
              "    </button>\n",
              "\n",
              "  <style>\n",
              "    .colab-df-container {\n",
              "      display:flex;\n",
              "      gap: 12px;\n",
              "    }\n",
              "\n",
              "    .colab-df-convert {\n",
              "      background-color: #E8F0FE;\n",
              "      border: none;\n",
              "      border-radius: 50%;\n",
              "      cursor: pointer;\n",
              "      display: none;\n",
              "      fill: #1967D2;\n",
              "      height: 32px;\n",
              "      padding: 0 0 0 0;\n",
              "      width: 32px;\n",
              "    }\n",
              "\n",
              "    .colab-df-convert:hover {\n",
              "      background-color: #E2EBFA;\n",
              "      box-shadow: 0px 1px 2px rgba(60, 64, 67, 0.3), 0px 1px 3px 1px rgba(60, 64, 67, 0.15);\n",
              "      fill: #174EA6;\n",
              "    }\n",
              "\n",
              "    .colab-df-buttons div {\n",
              "      margin-bottom: 4px;\n",
              "    }\n",
              "\n",
              "    [theme=dark] .colab-df-convert {\n",
              "      background-color: #3B4455;\n",
              "      fill: #D2E3FC;\n",
              "    }\n",
              "\n",
              "    [theme=dark] .colab-df-convert:hover {\n",
              "      background-color: #434B5C;\n",
              "      box-shadow: 0px 1px 3px 1px rgba(0, 0, 0, 0.15);\n",
              "      filter: drop-shadow(0px 1px 2px rgba(0, 0, 0, 0.3));\n",
              "      fill: #FFFFFF;\n",
              "    }\n",
              "  </style>\n",
              "\n",
              "    <script>\n",
              "      const buttonEl =\n",
              "        document.querySelector('#df-6bb18708-fbdf-4095-972a-8e5500ff9f10 button.colab-df-convert');\n",
              "      buttonEl.style.display =\n",
              "        google.colab.kernel.accessAllowed ? 'block' : 'none';\n",
              "\n",
              "      async function convertToInteractive(key) {\n",
              "        const element = document.querySelector('#df-6bb18708-fbdf-4095-972a-8e5500ff9f10');\n",
              "        const dataTable =\n",
              "          await google.colab.kernel.invokeFunction('convertToInteractive',\n",
              "                                                    [key], {});\n",
              "        if (!dataTable) return;\n",
              "\n",
              "        const docLinkHtml = 'Like what you see? Visit the ' +\n",
              "          '<a target=\"_blank\" href=https://colab.research.google.com/notebooks/data_table.ipynb>data table notebook</a>'\n",
              "          + ' to learn more about interactive tables.';\n",
              "        element.innerHTML = '';\n",
              "        dataTable['output_type'] = 'display_data';\n",
              "        await google.colab.output.renderOutput(dataTable, element);\n",
              "        const docLink = document.createElement('div');\n",
              "        docLink.innerHTML = docLinkHtml;\n",
              "        element.appendChild(docLink);\n",
              "      }\n",
              "    </script>\n",
              "  </div>\n",
              "\n",
              "\n",
              "<div id=\"df-a275dc13-e869-4079-a46e-79369ba19ea9\">\n",
              "  <button class=\"colab-df-quickchart\" onclick=\"quickchart('df-a275dc13-e869-4079-a46e-79369ba19ea9')\"\n",
              "            title=\"Suggest charts\"\n",
              "            style=\"display:none;\">\n",
              "\n",
              "<svg xmlns=\"http://www.w3.org/2000/svg\" height=\"24px\"viewBox=\"0 0 24 24\"\n",
              "     width=\"24px\">\n",
              "    <g>\n",
              "        <path d=\"M19 3H5c-1.1 0-2 .9-2 2v14c0 1.1.9 2 2 2h14c1.1 0 2-.9 2-2V5c0-1.1-.9-2-2-2zM9 17H7v-7h2v7zm4 0h-2V7h2v10zm4 0h-2v-4h2v4z\"/>\n",
              "    </g>\n",
              "</svg>\n",
              "  </button>\n",
              "\n",
              "<style>\n",
              "  .colab-df-quickchart {\n",
              "      --bg-color: #E8F0FE;\n",
              "      --fill-color: #1967D2;\n",
              "      --hover-bg-color: #E2EBFA;\n",
              "      --hover-fill-color: #174EA6;\n",
              "      --disabled-fill-color: #AAA;\n",
              "      --disabled-bg-color: #DDD;\n",
              "  }\n",
              "\n",
              "  [theme=dark] .colab-df-quickchart {\n",
              "      --bg-color: #3B4455;\n",
              "      --fill-color: #D2E3FC;\n",
              "      --hover-bg-color: #434B5C;\n",
              "      --hover-fill-color: #FFFFFF;\n",
              "      --disabled-bg-color: #3B4455;\n",
              "      --disabled-fill-color: #666;\n",
              "  }\n",
              "\n",
              "  .colab-df-quickchart {\n",
              "    background-color: var(--bg-color);\n",
              "    border: none;\n",
              "    border-radius: 50%;\n",
              "    cursor: pointer;\n",
              "    display: none;\n",
              "    fill: var(--fill-color);\n",
              "    height: 32px;\n",
              "    padding: 0;\n",
              "    width: 32px;\n",
              "  }\n",
              "\n",
              "  .colab-df-quickchart:hover {\n",
              "    background-color: var(--hover-bg-color);\n",
              "    box-shadow: 0 1px 2px rgba(60, 64, 67, 0.3), 0 1px 3px 1px rgba(60, 64, 67, 0.15);\n",
              "    fill: var(--button-hover-fill-color);\n",
              "  }\n",
              "\n",
              "  .colab-df-quickchart-complete:disabled,\n",
              "  .colab-df-quickchart-complete:disabled:hover {\n",
              "    background-color: var(--disabled-bg-color);\n",
              "    fill: var(--disabled-fill-color);\n",
              "    box-shadow: none;\n",
              "  }\n",
              "\n",
              "  .colab-df-spinner {\n",
              "    border: 2px solid var(--fill-color);\n",
              "    border-color: transparent;\n",
              "    border-bottom-color: var(--fill-color);\n",
              "    animation:\n",
              "      spin 1s steps(1) infinite;\n",
              "  }\n",
              "\n",
              "  @keyframes spin {\n",
              "    0% {\n",
              "      border-color: transparent;\n",
              "      border-bottom-color: var(--fill-color);\n",
              "      border-left-color: var(--fill-color);\n",
              "    }\n",
              "    20% {\n",
              "      border-color: transparent;\n",
              "      border-left-color: var(--fill-color);\n",
              "      border-top-color: var(--fill-color);\n",
              "    }\n",
              "    30% {\n",
              "      border-color: transparent;\n",
              "      border-left-color: var(--fill-color);\n",
              "      border-top-color: var(--fill-color);\n",
              "      border-right-color: var(--fill-color);\n",
              "    }\n",
              "    40% {\n",
              "      border-color: transparent;\n",
              "      border-right-color: var(--fill-color);\n",
              "      border-top-color: var(--fill-color);\n",
              "    }\n",
              "    60% {\n",
              "      border-color: transparent;\n",
              "      border-right-color: var(--fill-color);\n",
              "    }\n",
              "    80% {\n",
              "      border-color: transparent;\n",
              "      border-right-color: var(--fill-color);\n",
              "      border-bottom-color: var(--fill-color);\n",
              "    }\n",
              "    90% {\n",
              "      border-color: transparent;\n",
              "      border-bottom-color: var(--fill-color);\n",
              "    }\n",
              "  }\n",
              "</style>\n",
              "\n",
              "  <script>\n",
              "    async function quickchart(key) {\n",
              "      const quickchartButtonEl =\n",
              "        document.querySelector('#' + key + ' button');\n",
              "      quickchartButtonEl.disabled = true;  // To prevent multiple clicks.\n",
              "      quickchartButtonEl.classList.add('colab-df-spinner');\n",
              "      try {\n",
              "        const charts = await google.colab.kernel.invokeFunction(\n",
              "            'suggestCharts', [key], {});\n",
              "      } catch (error) {\n",
              "        console.error('Error during call to suggestCharts:', error);\n",
              "      }\n",
              "      quickchartButtonEl.classList.remove('colab-df-spinner');\n",
              "      quickchartButtonEl.classList.add('colab-df-quickchart-complete');\n",
              "    }\n",
              "    (() => {\n",
              "      let quickchartButtonEl =\n",
              "        document.querySelector('#df-a275dc13-e869-4079-a46e-79369ba19ea9 button');\n",
              "      quickchartButtonEl.style.display =\n",
              "        google.colab.kernel.accessAllowed ? 'block' : 'none';\n",
              "    })();\n",
              "  </script>\n",
              "</div>\n",
              "    </div>\n",
              "  </div>\n"
            ]
          },
          "metadata": {},
          "execution_count": 118
        }
      ],
      "source": [
        "#zmiana ID druzyn do prostych wartosci 0 - 29\n",
        "team_id = games['HOME_TEAM_ID'].unique()\n",
        "games = games.replace(team_id, np.arange(0,30,1))\n",
        "games"
      ]
    },
    {
      "cell_type": "code",
      "execution_count": null,
      "metadata": {
        "id": "NvvA4bGaqQyR"
      },
      "outputs": [],
      "source": [
        "def divide_seasons(season_1, season_2, feature ,pd_games = games):\n",
        "    result_1 = pd_games[pd_games['SEASON'] == season_1]\n",
        "    result_2 = pd_games[pd_games['SEASON'] == season_2]\n",
        "    result = pd.concat([result_1, result_2])\n",
        "    result = result.loc[: , ~result.columns.isin(['GAME_DATE_EST', 'GAME_ID', 'GAME_STATUS_TEXT', 'TEAM_ID_home', 'TEAM_ID_away', 'SEASON'])]\n",
        "    X_result_id = result.loc[: , ['HOME_TEAM_ID', 'VISITOR_TEAM_ID']].to_numpy()\n",
        "    y_result_win = result['HOME_TEAM_WINS'].to_numpy()\n",
        "    y_result_feat = result[feature].to_numpy()\n",
        "    return X_result_id, y_result_feat, y_result_win\n"
      ]
    },
    {
      "cell_type": "code",
      "execution_count": null,
      "metadata": {
        "id": "4DsmLckW0y7_",
        "colab": {
          "base_uri": "https://localhost:8080/",
          "height": 36
        },
        "outputId": "46dad559-4c81-44fc-a367-21b8774eb242"
      },
      "outputs": [
        {
          "output_type": "execute_result",
          "data": {
            "text/plain": [
              "\"\\n'PTS_home',\\n       'FG_PCT_home', 'FT_PCT_home', 'FG3_PCT_home', 'AST_home',\\n       'REB_home','PTS_away',\\n\""
            ],
            "application/vnd.google.colaboratory.intrinsic+json": {
              "type": "string"
            }
          },
          "metadata": {},
          "execution_count": 120
        }
      ],
      "source": [
        "\n",
        "#generator do tworzenia wykresow\n",
        "features = [ 'FG_PCT_away',\n",
        "       'FT_PCT_away','FG3_PCT_away', 'AST_away', 'REB_away',\n",
        "]\n",
        "\n",
        "\"\"\"\n",
        "'PTS_home',\n",
        "       'FG_PCT_home', 'FT_PCT_home', 'FG3_PCT_home', 'AST_home',\n",
        "       'REB_home','PTS_away',\n",
        "\"\"\""
      ]
    },
    {
      "cell_type": "code",
      "execution_count": null,
      "metadata": {
        "id": "lqKjOgbXzzDg"
      },
      "outputs": [],
      "source": [
        "\n",
        "def generator(lista):\n",
        "  for number in lista:\n",
        "    yield number\n",
        "\n",
        "#gen = generator(features)  #/// odkomentowac do tworzenia 1 wykresu, pozniej zakomentowac\n"
      ]
    },
    {
      "cell_type": "code",
      "execution_count": null,
      "metadata": {
        "colab": {
          "base_uri": "https://localhost:8080/"
        },
        "id": "NJDo86qB1G5u",
        "outputId": "b27fb0ae-01bb-44ab-a833-0cd3551e0301"
      },
      "outputs": [
        {
          "output_type": "stream",
          "name": "stdout",
          "text": [
            "REB_away\n"
          ]
        }
      ],
      "source": [
        "\n",
        "feature = next(gen)\n",
        "print(feature)"
      ]
    },
    {
      "cell_type": "code",
      "execution_count": null,
      "metadata": {
        "id": "TBNjH1Jr0FqK"
      },
      "outputs": [],
      "source": [
        "#zbior treningowy 2017/18 + 2018/19\n",
        "X_train_id, y_train_feat, y_train_win = divide_seasons(2017, 2018, feature)\n",
        "\n",
        "#zbior walidacyjny 2019/20   2020/21\n",
        "X_valid_id, y_valid_feat, y_valid_win = divide_seasons(2019, 2020, feature)       #mniejsza ilosc meczy ze wzgledu na COVID\n",
        "\n",
        "#zbior testowy - 2021/22 2022/23\n",
        "X_test_id, y_test_feat, y_test_win  = divide_seasons(2021, 2022, feature)       #roznica w ilosci wynika z niedokonczonego sezonu 2022 (do konca grudnia)"
      ]
    },
    {
      "cell_type": "code",
      "execution_count": null,
      "metadata": {
        "colab": {
          "base_uri": "https://localhost:8080/",
          "height": 36
        },
        "id": "U_SDcmosO1CF",
        "outputId": "085ed832-248a-47e8-cc16-e534447c184f"
      },
      "outputs": [
        {
          "output_type": "execute_result",
          "data": {
            "text/plain": [
              "'relu'"
            ],
            "application/vnd.google.colaboratory.intrinsic+json": {
              "type": "string"
            }
          },
          "metadata": {},
          "execution_count": 124
        }
      ],
      "source": [
        "feature_split = feature.split(\"_\")\n",
        "\n",
        "if 'PCT' in feature_split:\n",
        "  activ_func = 'sigmoid'\n",
        "else:\n",
        "  activ_func = 'relu'\n",
        "\n",
        "activ_func"
      ]
    },
    {
      "cell_type": "code",
      "execution_count": null,
      "metadata": {
        "id": "J72OCCkoP85x"
      },
      "outputs": [],
      "source": [
        "#model_feat - feature\n",
        "\n",
        "def model_feat_builder(hp, activation_func = activ_func):\n",
        "\n",
        "  hp_units = hp.Int('units', min_value=10, max_value=100, step=5)\n",
        "  hp_learning_rate = hp.Choice('learning_rate', values=[1e-2, 1e-3, 1e-4])    #zadajemy liste wartosci ---> stad Choice\n",
        "  hp_output_dim = hp.Int('output_dim', min_value = 1, max_value = 10, step = 1)\n",
        "\n",
        "  input_embedding_feat = Input(shape = (2,))\n",
        "  embedding_feat = Embedding(input_dim=30, output_dim = hp_output_dim, input_length=2)(input_embedding_feat)\n",
        "  embedding_feat = Dense(units = hp_units)(embedding_feat)\n",
        "  #embedding_feat = Flatten()(embedding_feat)\n",
        "  output_feat = Dense(1, activation = activation_func)(embedding_feat)\n",
        "  model_feat = Model(input_embedding_feat, output_feat)\n",
        "\n",
        "  model_feat.compile(optimizer = Adam(learning_rate = hp_learning_rate), loss = 'mse')\n",
        "\n",
        "  return model_feat\n"
      ]
    },
    {
      "cell_type": "code",
      "source": [
        "\"\"\"\n",
        "!rm -r /content/Val_loss_model_feat_builder\n",
        "USUWANIE ISTNIEJACEGO KATALOGU Z REPOZYTORIUM\n",
        "\"\"\""
      ],
      "metadata": {
        "id": "czJj9hVD8Gon",
        "colab": {
          "base_uri": "https://localhost:8080/",
          "height": 36
        },
        "outputId": "fe0a980c-f136-4027-d0e4-1f070582fc93"
      },
      "execution_count": null,
      "outputs": [
        {
          "output_type": "execute_result",
          "data": {
            "text/plain": [
              "'\\n!rm -r /content/Val_loss_model_feat_builder\\nUSUWANIE ISTNIEJACEGO KATALOGU Z REPOZYTORIUM\\n'"
            ],
            "application/vnd.google.colaboratory.intrinsic+json": {
              "type": "string"
            }
          },
          "metadata": {},
          "execution_count": 98
        }
      ]
    },
    {
      "cell_type": "code",
      "source": [
        "#Do determinacji wielkosci min_delta w EarlyStopping\n",
        "\n",
        "\n",
        "input_embedding_feat = Input(shape = (2,))\n",
        "embedding_feat = Embedding(input_dim=30, output_dim = 2, input_length=2)(input_embedding_feat)\n",
        "embedding_feat = Dense(units = 10)(embedding_feat)\n",
        "#embedding_feat = Flatten()(embedding_feat)\n",
        "embedding_feat = Dropout(0.2)(embedding_feat)\n",
        "output_feat = Dense(1, activation = activ_func)(embedding_feat)\n",
        "model_temp = Model(input_embedding_feat, output_feat)\n",
        "\n",
        "model_temp.compile(optimizer = 'adam', loss = 'mse')\n",
        "model_temp.fit(X_train_id, y_train_feat, validation_data = (X_valid_id, y_valid_feat), epochs = 20)\n",
        "\n",
        "delta = float(input(\"Wprowadz min_detla: \"))"
      ],
      "metadata": {
        "colab": {
          "base_uri": "https://localhost:8080/"
        },
        "id": "AYF_v_6bCAAz",
        "outputId": "ed407832-69e0-4dd8-ea57-9cff9d63fc7d"
      },
      "execution_count": null,
      "outputs": [
        {
          "name": "stdout",
          "output_type": "stream",
          "text": [
            "Epoch 1/20\n",
            "87/87 [==============================] - 2s 15ms/step - loss: 1929.2393 - val_loss: 1925.3544\n",
            "Epoch 2/20\n",
            "87/87 [==============================] - 1s 8ms/step - loss: 1838.0732 - val_loss: 1793.3932\n",
            "Epoch 3/20\n",
            "87/87 [==============================] - 1s 7ms/step - loss: 1658.7257 - val_loss: 1559.4967\n",
            "Epoch 4/20\n",
            "87/87 [==============================] - 1s 7ms/step - loss: 1377.6420 - val_loss: 1227.0177\n",
            "Epoch 5/20\n",
            "87/87 [==============================] - 1s 8ms/step - loss: 1021.1646 - val_loss: 843.1588\n",
            "Epoch 6/20\n",
            "87/87 [==============================] - 1s 6ms/step - loss: 655.1550 - val_loss: 489.2324\n",
            "Epoch 7/20\n",
            "87/87 [==============================] - 1s 6ms/step - loss: 357.6104 - val_loss: 238.4954\n",
            "Epoch 8/20\n",
            "87/87 [==============================] - 0s 6ms/step - loss: 185.9883 - val_loss: 109.1984\n",
            "Epoch 9/20\n",
            "87/87 [==============================] - 1s 8ms/step - loss: 114.9037 - val_loss: 62.3557\n",
            "Epoch 10/20\n",
            "87/87 [==============================] - 0s 6ms/step - loss: 94.2311 - val_loss: 49.6111\n",
            "Epoch 11/20\n",
            "87/87 [==============================] - 1s 8ms/step - loss: 88.9943 - val_loss: 46.3801\n",
            "Epoch 12/20\n",
            "87/87 [==============================] - 1s 6ms/step - loss: 90.0903 - val_loss: 45.0936\n",
            "Epoch 13/20\n",
            "87/87 [==============================] - 1s 6ms/step - loss: 88.9623 - val_loss: 44.6537\n",
            "Epoch 14/20\n",
            "87/87 [==============================] - 1s 7ms/step - loss: 89.6137 - val_loss: 44.8019\n",
            "Epoch 15/20\n",
            "87/87 [==============================] - 1s 6ms/step - loss: 89.2907 - val_loss: 44.8278\n",
            "Epoch 16/20\n",
            "87/87 [==============================] - 1s 9ms/step - loss: 88.3478 - val_loss: 44.7664\n",
            "Epoch 17/20\n",
            "87/87 [==============================] - 1s 9ms/step - loss: 88.5848 - val_loss: 44.5399\n",
            "Epoch 18/20\n",
            "87/87 [==============================] - 1s 8ms/step - loss: 87.6391 - val_loss: 44.7416\n",
            "Epoch 19/20\n",
            "87/87 [==============================] - 1s 9ms/step - loss: 89.2262 - val_loss: 44.8331\n",
            "Epoch 20/20\n",
            "87/87 [==============================] - 1s 8ms/step - loss: 89.0174 - val_loss: 44.6899\n",
            "Wprowadz min_detla: 1\n"
          ]
        }
      ]
    },
    {
      "cell_type": "code",
      "execution_count": null,
      "metadata": {
        "id": "AoA32wCU8qSF"
      },
      "outputs": [],
      "source": [
        "#tworzenie obiektu Tunera\n",
        "dir = 'Val_loss_feat_model_' + feature\n",
        "\n",
        "tuner_feat = kt.Hyperband(model_feat_builder,\n",
        "                     objective='val_loss',\n",
        "                     max_epochs = 21,     #factor = 3 domyslnie wiec 21 aby kolejne iteracje byly po 7 epochs\n",
        "                     directory= dir,\n",
        "                     project_name='Model_feat')\n",
        "\n",
        "#tworzenie obiektu Callback - early stopping do zatrzymania wczesniej programu\n",
        "\n",
        "stop_early = tf.keras.callbacks.EarlyStopping(monitor = 'val_loss', mode = 'min', min_delta = delta , patience = 4)   #jezeli val_loss w przeciagu 3 epok nie spadnie poniżej aktualnej w.min. to koniec"
      ]
    },
    {
      "cell_type": "code",
      "execution_count": null,
      "metadata": {
        "colab": {
          "base_uri": "https://localhost:8080/"
        },
        "id": "-NXbJ3iz-mce",
        "outputId": "bb9094b0-d6ce-4d6b-b309-2c6b6433e2d5"
      },
      "outputs": [
        {
          "output_type": "stream",
          "name": "stdout",
          "text": [
            "Trial 30 Complete [00h 00m 06s]\n",
            "val_loss: 42.757564544677734\n",
            "\n",
            "Best val_loss So Far: 42.663299560546875\n",
            "Total elapsed time: 00h 03m 20s\n"
          ]
        }
      ],
      "source": [
        "#Szukanie najlepszych parametrow\n",
        "tuner_feat.search(X_train_id, y_train_feat, epochs=50, validation_data = (X_valid_id, y_valid_feat), callbacks = [stop_early])\n",
        "\n",
        "# Get the optimal hyperparameters\n",
        "best_hps_feat = tuner_feat.get_best_hyperparameters(num_trials=1)[0]"
      ]
    },
    {
      "cell_type": "code",
      "source": [
        "print(f\"Cecha: {feature}\\nNajlepsza ilosc neuronow w warstwie: {best_hps_feat.get('units')} \\nNajlepszy learning_rate modelu: {best_hps_feat.get('learning_rate')} \\nNajlepsza ilosc output_dim: {best_hps_feat.get('output_dim')}\")"
      ],
      "metadata": {
        "colab": {
          "base_uri": "https://localhost:8080/"
        },
        "id": "OeXHorRG4IUP",
        "outputId": "b181b93a-19e2-42cc-baae-5260375c7432"
      },
      "execution_count": null,
      "outputs": [
        {
          "output_type": "stream",
          "name": "stdout",
          "text": [
            "Cecha: REB_away\n",
            "Najlepsza ilosc neuronow w warstwie: 90 \n",
            "Najlepszy learning_rate modelu: 0.01 \n",
            "Najlepsza ilosc output_dim: 3\n"
          ]
        }
      ]
    },
    {
      "cell_type": "code",
      "execution_count": null,
      "metadata": {
        "colab": {
          "base_uri": "https://localhost:8080/"
        },
        "id": "aqJKw01QKKO8",
        "outputId": "f63c8d9b-f65c-4e87-8dab-9f6e02208dde"
      },
      "outputs": [
        {
          "output_type": "stream",
          "name": "stdout",
          "text": [
            "Epoch 1/50\n",
            "87/87 [==============================] - 2s 16ms/step - loss: 546.4483 - val_loss: 43.8394\n",
            "Epoch 2/50\n",
            "87/87 [==============================] - 0s 6ms/step - loss: 42.9459 - val_loss: 43.3872\n",
            "Epoch 3/50\n",
            "87/87 [==============================] - 1s 9ms/step - loss: 42.7778 - val_loss: 43.1175\n",
            "Epoch 4/50\n",
            "87/87 [==============================] - 1s 7ms/step - loss: 43.2979 - val_loss: 45.1580\n",
            "Epoch 5/50\n",
            "87/87 [==============================] - 1s 9ms/step - loss: 43.1743 - val_loss: 43.5573\n",
            "Epoch 6/50\n",
            "87/87 [==============================] - 1s 7ms/step - loss: 43.0151 - val_loss: 42.9816\n",
            "Epoch 7/50\n",
            "87/87 [==============================] - 1s 8ms/step - loss: 43.0278 - val_loss: 52.1855\n",
            "Epoch 8/50\n",
            "87/87 [==============================] - 1s 9ms/step - loss: 43.4905 - val_loss: 42.7077\n",
            "Epoch 9/50\n",
            "87/87 [==============================] - 1s 9ms/step - loss: 42.8519 - val_loss: 42.6713\n",
            "Epoch 10/50\n",
            "87/87 [==============================] - 1s 9ms/step - loss: 42.9422 - val_loss: 43.5072\n",
            "Epoch 11/50\n",
            "87/87 [==============================] - 1s 9ms/step - loss: 43.7434 - val_loss: 42.6896\n",
            "Epoch 12/50\n",
            "87/87 [==============================] - 1s 7ms/step - loss: 43.6957 - val_loss: 44.5830\n",
            "Epoch 13/50\n",
            "87/87 [==============================] - 1s 7ms/step - loss: 43.6469 - val_loss: 43.2885\n",
            "Epoch 14/50\n",
            "87/87 [==============================] - 1s 7ms/step - loss: 43.5237 - val_loss: 43.4880\n",
            "Epoch 15/50\n",
            "87/87 [==============================] - 0s 6ms/step - loss: 43.1018 - val_loss: 43.0688\n",
            "Epoch 16/50\n",
            "87/87 [==============================] - 1s 8ms/step - loss: 43.4973 - val_loss: 43.0466\n",
            "Epoch 17/50\n",
            "87/87 [==============================] - 1s 7ms/step - loss: 43.2658 - val_loss: 43.7723\n",
            "Epoch 18/50\n",
            "87/87 [==============================] - 1s 8ms/step - loss: 43.1124 - val_loss: 42.7823\n",
            "Epoch 19/50\n",
            "87/87 [==============================] - 1s 7ms/step - loss: 44.1269 - val_loss: 43.6886\n",
            "Epoch 20/50\n",
            "87/87 [==============================] - 1s 6ms/step - loss: 43.3404 - val_loss: 46.4722\n",
            "Epoch 21/50\n",
            "87/87 [==============================] - 1s 8ms/step - loss: 43.7370 - val_loss: 42.9304\n",
            "Epoch 22/50\n",
            "87/87 [==============================] - 1s 6ms/step - loss: 43.0744 - val_loss: 42.8027\n",
            "Epoch 23/50\n",
            "87/87 [==============================] - 1s 6ms/step - loss: 43.7089 - val_loss: 43.9003\n",
            "Epoch 24/50\n",
            "87/87 [==============================] - 1s 6ms/step - loss: 43.2390 - val_loss: 42.7870\n",
            "Epoch 25/50\n",
            "87/87 [==============================] - 1s 8ms/step - loss: 44.1118 - val_loss: 43.1473\n",
            "Epoch 26/50\n",
            "87/87 [==============================] - 1s 6ms/step - loss: 43.7269 - val_loss: 42.8477\n",
            "Epoch 27/50\n",
            "87/87 [==============================] - 1s 6ms/step - loss: 43.3711 - val_loss: 42.9934\n",
            "Epoch 28/50\n",
            "87/87 [==============================] - 1s 8ms/step - loss: 43.2182 - val_loss: 42.7603\n",
            "Epoch 29/50\n",
            "87/87 [==============================] - 1s 9ms/step - loss: 45.7155 - val_loss: 47.6544\n",
            "Epoch 30/50\n",
            "87/87 [==============================] - 1s 9ms/step - loss: 43.7393 - val_loss: 46.5032\n",
            "Epoch 31/50\n",
            "87/87 [==============================] - 1s 9ms/step - loss: 43.1589 - val_loss: 48.2955\n",
            "Epoch 32/50\n",
            "87/87 [==============================] - 1s 11ms/step - loss: 43.6144 - val_loss: 42.7271\n",
            "Epoch 33/50\n",
            "87/87 [==============================] - 1s 8ms/step - loss: 44.0535 - val_loss: 45.6008\n",
            "Epoch 34/50\n",
            "87/87 [==============================] - 1s 6ms/step - loss: 43.8563 - val_loss: 43.8773\n",
            "Epoch 35/50\n",
            "87/87 [==============================] - 1s 6ms/step - loss: 42.9995 - val_loss: 42.8009\n",
            "Epoch 36/50\n",
            "87/87 [==============================] - 1s 6ms/step - loss: 43.3696 - val_loss: 49.1500\n",
            "Epoch 37/50\n",
            "87/87 [==============================] - 1s 7ms/step - loss: 44.3771 - val_loss: 42.8427\n",
            "Epoch 38/50\n",
            "87/87 [==============================] - 1s 6ms/step - loss: 43.4677 - val_loss: 44.6749\n",
            "Epoch 39/50\n",
            "87/87 [==============================] - 1s 8ms/step - loss: 43.2979 - val_loss: 42.7119\n",
            "Epoch 40/50\n",
            "87/87 [==============================] - 1s 8ms/step - loss: 42.9282 - val_loss: 42.7813\n",
            "Epoch 41/50\n",
            "87/87 [==============================] - 1s 6ms/step - loss: 43.5708 - val_loss: 43.1178\n",
            "Epoch 42/50\n",
            "87/87 [==============================] - 1s 6ms/step - loss: 44.4427 - val_loss: 43.5276\n",
            "Epoch 43/50\n",
            "87/87 [==============================] - 1s 8ms/step - loss: 43.2061 - val_loss: 42.7380\n",
            "Epoch 44/50\n",
            "87/87 [==============================] - 1s 6ms/step - loss: 44.1007 - val_loss: 43.2218\n",
            "Epoch 45/50\n",
            "87/87 [==============================] - 1s 6ms/step - loss: 43.1804 - val_loss: 43.5030\n",
            "Epoch 46/50\n",
            "87/87 [==============================] - 1s 6ms/step - loss: 43.2636 - val_loss: 42.7138\n",
            "Epoch 47/50\n",
            "87/87 [==============================] - 1s 6ms/step - loss: 43.0396 - val_loss: 42.7668\n",
            "Epoch 48/50\n",
            "87/87 [==============================] - 1s 6ms/step - loss: 43.6371 - val_loss: 43.3719\n",
            "Epoch 49/50\n",
            "87/87 [==============================] - 1s 8ms/step - loss: 43.5238 - val_loss: 45.7588\n",
            "Epoch 50/50\n",
            "87/87 [==============================] - 1s 8ms/step - loss: 43.9863 - val_loss: 42.9497\n",
            "Najlepsza iteracja: 9\n"
          ]
        }
      ],
      "source": [
        "model_feat = tuner_feat.hypermodel.build(best_hps_feat)\n",
        "r_feat = model_feat.fit(X_train_id, y_train_feat, epochs=50, validation_data = (X_valid_id, y_valid_feat))\n",
        "\n",
        "val_loss_per_epoch = r_feat.history['val_loss']\n",
        "best_epoch = val_loss_per_epoch.index(min(val_loss_per_epoch)) + 1\n",
        "print(f\"Najlepsza iteracja: {best_epoch}\")"
      ]
    },
    {
      "cell_type": "code",
      "execution_count": null,
      "metadata": {
        "colab": {
          "base_uri": "https://localhost:8080/",
          "height": 465
        },
        "id": "1MF28pglSIvb",
        "outputId": "a64166f0-10a3-4a18-bd98-36c1d922d123"
      },
      "outputs": [
        {
          "output_type": "execute_result",
          "data": {
            "text/plain": [
              "<Figure size 640x480 with 0 Axes>"
            ]
          },
          "metadata": {},
          "execution_count": 131
        },
        {
          "output_type": "display_data",
          "data": {
            "text/plain": [
              "<Figure size 640x480 with 1 Axes>"
            ],
            "image/png": "[encoded data removed]"
          },
          "metadata": {}
        },
        {
          "output_type": "display_data",
          "data": {
            "text/plain": [
              "<Figure size 640x480 with 0 Axes>"
            ]
          },
          "metadata": {}
        }
      ],
      "source": [
        "plt.plot(r_feat.history['loss'][4:], color = 'red', label = 'loss')\n",
        "plt.plot(r_feat.history['val_loss'][4:], color = 'blue', label = 'val_loss')\n",
        "plt.legend()\n",
        "plt.figure()"
      ]
    },
    {
      "cell_type": "code",
      "execution_count": null,
      "metadata": {
        "id": "0XQgJvijFqPQ"
      },
      "outputs": [],
      "source": [
        "#freeze wag model_feat\n",
        "\n",
        "def model_win_builder(hp, model_feat = model_feat):\n",
        "\n",
        "  for layer in model_feat.layers:\n",
        "      layer.trainable=False\n",
        "\n",
        "  hp_units_1 = hp.Int('units_1', min_value=4, max_value=64, step=4)\n",
        "  hp_units_2 = hp.Int('units_2', min_value=4, max_value=64, step=4)\n",
        "  hp_learning_rate = hp.Choice('learning_rate', values=[1e-2, 1e-3, 1e-4])    #zadajemy liste wartosci ---> stad Choice\n",
        "  hp_output_dim = hp.Int('output_dim', min_value = 1, max_value = 10, step = 1)\n",
        "\n",
        "\n",
        "  #model - win\n",
        "  input_embedding_win = Input(shape = (2,))\n",
        "  embedding_win = Embedding(input_dim=30, output_dim = hp_output_dim, input_length=2)(input_embedding_win)\n",
        "  #embedding_win = Flatten()(embedding_win)\n",
        "  print(embedding_win.shape)\n",
        "\n",
        "\n",
        "  merged = concatenate([model_feat.output, embedding_win])\n",
        "\n",
        "  #zmienic ilosc neuronow\n",
        "  merged = Dense(hp_units_1, activation = 'relu', name='dense_layer_1')(merged)   #nazwy zmodyfikowane z uwagi na blad nazw w tuner.search\n",
        "  merged = Dense(hp_units_2, activation = 'relu', name='dense_layer_2')(merged)\n",
        "  ###\n",
        "  merged = Flatten()(merged)\n",
        "  merged = Dropout(0.2)(merged)\n",
        "  output = Dense(1, activation = 'sigmoid')(merged)\n",
        "\n",
        "  model_win = Model(inputs = [input_embedding_win, model_feat.input], outputs = output)\n",
        "  model_win.compile(optimizer = Adam(learning_rate = hp_learning_rate), loss = 'binary_crossentropy', metrics = ['accuracy'])\n",
        "  return model_win"
      ]
    },
    {
      "cell_type": "code",
      "source": [
        "\n",
        "\"\"\"\n",
        "!rm -r /content/val_acc_model_win_builder\n",
        "DO USUWANIA ISTNIEJACEGO PLIKU Z HP\n",
        "\"\"\""
      ],
      "metadata": {
        "colab": {
          "base_uri": "https://localhost:8080/",
          "height": 36
        },
        "id": "y7BEKmkQ76w_",
        "outputId": "dedeebe0-9820-47b6-fdcc-a11b67efabbb"
      },
      "execution_count": null,
      "outputs": [
        {
          "output_type": "execute_result",
          "data": {
            "text/plain": [
              "'\\n!rm -r /content/val_acc_model_win_builder\\nDO USUWANIA ISTNIEJACEGO PLIKU Z HP\\n'"
            ],
            "application/vnd.google.colaboratory.intrinsic+json": {
              "type": "string"
            }
          },
          "metadata": {},
          "execution_count": 133
        }
      ]
    },
    {
      "cell_type": "code",
      "execution_count": null,
      "metadata": {
        "colab": {
          "base_uri": "https://localhost:8080/"
        },
        "id": "bAQ_m1Du7Fof",
        "outputId": "ffbff50f-a8d8-49b6-d772-05f155c18d9f"
      },
      "outputs": [
        {
          "output_type": "stream",
          "name": "stdout",
          "text": [
            "(None, 2, 1)\n"
          ]
        }
      ],
      "source": [
        "dir = 'Val_acc_win_model_' + feature\n",
        "\n",
        "tuner_win = kt.Hyperband(model_win_builder,\n",
        "                     objective='val_accuracy',\n",
        "                     max_epochs = 21,\n",
        "                     directory= dir,\n",
        "                     project_name='model_win',\n",
        "                      overwrite = True)\n",
        "\n",
        "early_stop = tf.keras.callbacks.EarlyStopping(monitor = 'val_accuracy', mode = 'max', min_delta= 1, verbose= True, patience = 4)"
      ]
    },
    {
      "cell_type": "code",
      "execution_count": null,
      "metadata": {
        "colab": {
          "base_uri": "https://localhost:8080/"
        },
        "id": "Nsh6sRbfV7pK",
        "outputId": "2445c980-2016-45eb-9b9b-e14462a2c9b5"
      },
      "outputs": [
        {
          "output_type": "stream",
          "name": "stdout",
          "text": [
            "Trial 30 Complete [00h 00m 09s]\n",
            "val_accuracy: 0.563052237033844\n",
            "\n",
            "Best val_accuracy So Far: 0.563052237033844\n",
            "Total elapsed time: 00h 04m 03s\n"
          ]
        }
      ],
      "source": [
        "#Szukanie najlepszych hp\n",
        "\n",
        "tuner_win.search([X_train_id, X_train_id], y_train_win, epochs= 50, validation_data = ([X_valid_id, X_valid_id], y_valid_win), callbacks = [early_stop])\n",
        "\n",
        "#najlepsze parametry\n",
        "best_hps_win = tuner_win.get_best_hyperparameters(num_trials=3)[0]"
      ]
    },
    {
      "cell_type": "code",
      "source": [
        "\n",
        "print(f\"Najlepsza ilosc neuronow w warstwie Dense_1: {best_hps_win.get('units_1')} \\nNajlepsza ilosc neuronow w warstwie Dense_2: {best_hps_win.get('units_2')}\\nNajlepszy learning_rate modelu: {best_hps_win.get('learning_rate')}\\nNajlepsza ilosc output_dim: {best_hps_feat.get('output_dim')}\")"
      ],
      "metadata": {
        "colab": {
          "base_uri": "https://localhost:8080/"
        },
        "id": "RISkrkb96KGp",
        "outputId": "61904963-2722-4111-e746-ac388caac252"
      },
      "execution_count": null,
      "outputs": [
        {
          "output_type": "stream",
          "name": "stdout",
          "text": [
            "Najlepsza ilosc neuronow w warstwie Dense_1: 52 \n",
            "Najlepsza ilosc neuronow w warstwie Dense_2: 20\n",
            "Najlepszy learning_rate modelu: 0.01\n",
            "Najlepsza ilosc output_dim: 3\n"
          ]
        }
      ]
    },
    {
      "cell_type": "code",
      "execution_count": null,
      "metadata": {
        "colab": {
          "base_uri": "https://localhost:8080/"
        },
        "id": "4LslhYtUcKn8",
        "outputId": "f2c309ad-7908-4df0-9ddf-262427de2625"
      },
      "outputs": [
        {
          "output_type": "stream",
          "name": "stdout",
          "text": [
            "(None, 2, 10)\n",
            "Epoch 1/50\n",
            "87/87 [==============================] - 4s 31ms/step - loss: 1.2342 - accuracy: 0.4924 - val_loss: 0.6895 - val_accuracy: 0.5410\n",
            "Epoch 2/50\n",
            "87/87 [==============================] - 1s 10ms/step - loss: 0.7705 - accuracy: 0.5232 - val_loss: 0.7046 - val_accuracy: 0.5410\n",
            "Epoch 3/50\n",
            "87/87 [==============================] - 1s 8ms/step - loss: 0.7079 - accuracy: 0.5431 - val_loss: 0.7016 - val_accuracy: 0.5410\n",
            "Epoch 4/50\n",
            "87/87 [==============================] - 1s 10ms/step - loss: 0.6596 - accuracy: 0.6105 - val_loss: 0.6974 - val_accuracy: 0.5530\n",
            "Epoch 5/50\n",
            "87/87 [==============================] - 1s 10ms/step - loss: 0.6347 - accuracy: 0.6435 - val_loss: 0.7213 - val_accuracy: 0.5570\n",
            "Epoch 6/50\n",
            "87/87 [==============================] - 1s 9ms/step - loss: 0.6269 - accuracy: 0.6471 - val_loss: 0.7548 - val_accuracy: 0.5562\n",
            "Epoch 7/50\n",
            "87/87 [==============================] - 1s 8ms/step - loss: 0.6359 - accuracy: 0.6380 - val_loss: 0.7298 - val_accuracy: 0.5526\n",
            "Epoch 8/50\n",
            "87/87 [==============================] - 1s 9ms/step - loss: 0.6268 - accuracy: 0.6525 - val_loss: 0.7267 - val_accuracy: 0.5546\n",
            "Epoch 9/50\n",
            "87/87 [==============================] - 1s 8ms/step - loss: 0.6193 - accuracy: 0.6670 - val_loss: 0.7364 - val_accuracy: 0.5542\n",
            "Epoch 10/50\n",
            "87/87 [==============================] - 1s 8ms/step - loss: 0.6198 - accuracy: 0.6601 - val_loss: 0.7283 - val_accuracy: 0.5522\n",
            "Epoch 11/50\n",
            "87/87 [==============================] - 1s 8ms/step - loss: 0.6182 - accuracy: 0.6612 - val_loss: 0.7248 - val_accuracy: 0.5506\n",
            "Epoch 12/50\n",
            "87/87 [==============================] - 1s 9ms/step - loss: 0.6212 - accuracy: 0.6543 - val_loss: 0.7587 - val_accuracy: 0.5530\n",
            "Epoch 13/50\n",
            "87/87 [==============================] - 1s 9ms/step - loss: 0.6218 - accuracy: 0.6569 - val_loss: 0.7361 - val_accuracy: 0.5502\n",
            "Epoch 14/50\n",
            "87/87 [==============================] - 1s 10ms/step - loss: 0.6182 - accuracy: 0.6587 - val_loss: 0.7623 - val_accuracy: 0.5486\n",
            "Epoch 15/50\n",
            "87/87 [==============================] - 1s 13ms/step - loss: 0.6195 - accuracy: 0.6580 - val_loss: 0.7457 - val_accuracy: 0.5470\n",
            "Epoch 16/50\n",
            "87/87 [==============================] - 1s 13ms/step - loss: 0.6165 - accuracy: 0.6638 - val_loss: 0.7476 - val_accuracy: 0.5466\n",
            "Epoch 17/50\n",
            "87/87 [==============================] - 1s 12ms/step - loss: 0.6192 - accuracy: 0.6551 - val_loss: 0.7428 - val_accuracy: 0.5434\n",
            "Epoch 18/50\n",
            "87/87 [==============================] - 1s 9ms/step - loss: 0.6198 - accuracy: 0.6591 - val_loss: 0.7289 - val_accuracy: 0.5470\n",
            "Epoch 19/50\n",
            "87/87 [==============================] - 1s 8ms/step - loss: 0.6233 - accuracy: 0.6554 - val_loss: 0.7345 - val_accuracy: 0.5450\n",
            "Epoch 20/50\n",
            "87/87 [==============================] - 1s 9ms/step - loss: 0.6152 - accuracy: 0.6609 - val_loss: 0.7658 - val_accuracy: 0.5426\n",
            "Epoch 21/50\n",
            "87/87 [==============================] - 1s 8ms/step - loss: 0.6213 - accuracy: 0.6562 - val_loss: 0.7474 - val_accuracy: 0.5518\n",
            "Epoch 22/50\n",
            "87/87 [==============================] - 1s 8ms/step - loss: 0.6182 - accuracy: 0.6659 - val_loss: 0.7585 - val_accuracy: 0.5502\n",
            "Epoch 23/50\n",
            "87/87 [==============================] - 1s 8ms/step - loss: 0.6209 - accuracy: 0.6591 - val_loss: 0.7293 - val_accuracy: 0.5406\n",
            "Epoch 24/50\n",
            "87/87 [==============================] - 1s 9ms/step - loss: 0.6176 - accuracy: 0.6583 - val_loss: 0.7388 - val_accuracy: 0.5410\n",
            "Epoch 25/50\n",
            "87/87 [==============================] - 1s 9ms/step - loss: 0.6184 - accuracy: 0.6678 - val_loss: 0.7360 - val_accuracy: 0.5502\n",
            "Epoch 26/50\n",
            "87/87 [==============================] - 1s 8ms/step - loss: 0.6154 - accuracy: 0.6594 - val_loss: 0.7427 - val_accuracy: 0.5470\n",
            "Epoch 27/50\n",
            "87/87 [==============================] - 1s 8ms/step - loss: 0.6177 - accuracy: 0.6540 - val_loss: 0.7503 - val_accuracy: 0.5458\n",
            "Epoch 28/50\n",
            "87/87 [==============================] - 1s 8ms/step - loss: 0.6134 - accuracy: 0.6656 - val_loss: 0.7311 - val_accuracy: 0.5518\n",
            "Epoch 29/50\n",
            "87/87 [==============================] - 1s 8ms/step - loss: 0.6175 - accuracy: 0.6667 - val_loss: 0.7482 - val_accuracy: 0.5422\n",
            "Epoch 30/50\n",
            "87/87 [==============================] - 1s 9ms/step - loss: 0.6182 - accuracy: 0.6638 - val_loss: 0.7333 - val_accuracy: 0.5450\n",
            "Epoch 31/50\n",
            "87/87 [==============================] - 1s 9ms/step - loss: 0.6162 - accuracy: 0.6594 - val_loss: 0.7374 - val_accuracy: 0.5486\n",
            "Epoch 32/50\n",
            "87/87 [==============================] - 1s 15ms/step - loss: 0.6147 - accuracy: 0.6612 - val_loss: 0.7542 - val_accuracy: 0.5522\n",
            "Epoch 33/50\n",
            "87/87 [==============================] - 1s 16ms/step - loss: 0.6142 - accuracy: 0.6623 - val_loss: 0.7435 - val_accuracy: 0.5398\n",
            "Epoch 34/50\n",
            "87/87 [==============================] - 1s 11ms/step - loss: 0.6164 - accuracy: 0.6609 - val_loss: 0.7244 - val_accuracy: 0.5349\n",
            "Epoch 35/50\n",
            "87/87 [==============================] - 1s 8ms/step - loss: 0.6159 - accuracy: 0.6616 - val_loss: 0.7366 - val_accuracy: 0.5382\n",
            "Epoch 36/50\n",
            "87/87 [==============================] - 1s 8ms/step - loss: 0.6116 - accuracy: 0.6699 - val_loss: 0.7449 - val_accuracy: 0.5369\n",
            "Epoch 37/50\n",
            "87/87 [==============================] - 1s 8ms/step - loss: 0.6181 - accuracy: 0.6638 - val_loss: 0.7499 - val_accuracy: 0.5454\n",
            "Epoch 38/50\n",
            "87/87 [==============================] - 1s 9ms/step - loss: 0.6131 - accuracy: 0.6696 - val_loss: 0.7353 - val_accuracy: 0.5325\n",
            "Epoch 39/50\n",
            "87/87 [==============================] - 1s 8ms/step - loss: 0.6130 - accuracy: 0.6598 - val_loss: 0.7595 - val_accuracy: 0.5462\n",
            "Epoch 40/50\n",
            "87/87 [==============================] - 1s 8ms/step - loss: 0.6168 - accuracy: 0.6627 - val_loss: 0.7455 - val_accuracy: 0.5474\n",
            "Epoch 41/50\n",
            "87/87 [==============================] - 1s 8ms/step - loss: 0.6147 - accuracy: 0.6576 - val_loss: 0.7635 - val_accuracy: 0.5478\n",
            "Epoch 42/50\n",
            "87/87 [==============================] - 1s 9ms/step - loss: 0.6121 - accuracy: 0.6674 - val_loss: 0.7517 - val_accuracy: 0.5430\n",
            "Epoch 43/50\n",
            "87/87 [==============================] - 1s 9ms/step - loss: 0.6113 - accuracy: 0.6725 - val_loss: 0.7540 - val_accuracy: 0.5502\n",
            "Epoch 44/50\n",
            "87/87 [==============================] - 1s 8ms/step - loss: 0.6156 - accuracy: 0.6576 - val_loss: 0.7494 - val_accuracy: 0.5402\n",
            "Epoch 45/50\n",
            "87/87 [==============================] - 1s 8ms/step - loss: 0.6124 - accuracy: 0.6692 - val_loss: 0.7400 - val_accuracy: 0.5430\n",
            "Epoch 46/50\n",
            "87/87 [==============================] - 1s 8ms/step - loss: 0.6133 - accuracy: 0.6638 - val_loss: 0.7357 - val_accuracy: 0.5369\n",
            "Epoch 47/50\n",
            "87/87 [==============================] - 1s 8ms/step - loss: 0.6124 - accuracy: 0.6598 - val_loss: 0.7548 - val_accuracy: 0.5426\n",
            "Epoch 48/50\n",
            "87/87 [==============================] - 1s 11ms/step - loss: 0.6127 - accuracy: 0.6732 - val_loss: 0.7607 - val_accuracy: 0.5514\n",
            "Epoch 49/50\n",
            "87/87 [==============================] - 1s 16ms/step - loss: 0.6123 - accuracy: 0.6583 - val_loss: 0.7342 - val_accuracy: 0.5398\n",
            "Epoch 50/50\n",
            "87/87 [==============================] - 1s 13ms/step - loss: 0.6139 - accuracy: 0.6638 - val_loss: 0.7478 - val_accuracy: 0.5486\n",
            "Najlepsza iteracja: 38\n"
          ]
        }
      ],
      "source": [
        "hypermodel_win_1 = tuner_win.hypermodel.build(best_hps_win)\n",
        "\n",
        "r_win = hypermodel_win_1.fit([X_train_id, X_train_id], y_train_win, epochs= 50, validation_data = ([X_valid_id, X_valid_id], y_valid_win))\n",
        "val_acc_per_epoch = r_win.history['val_accuracy']\n",
        "best_epoch = val_acc_per_epoch.index(min(val_acc_per_epoch)) + 1\n",
        "print(f\"Najlepsza iteracja: {best_epoch}\")"
      ]
    },
    {
      "cell_type": "code",
      "execution_count": null,
      "metadata": {
        "colab": {
          "base_uri": "https://localhost:8080/",
          "height": 452
        },
        "id": "hXUeLl3RiXU9",
        "outputId": "922b0ef0-9698-4e2a-b9e0-7574dc836277"
      },
      "outputs": [
        {
          "output_type": "display_data",
          "data": {
            "text/plain": [
              "<Figure size 640x480 with 1 Axes>"
            ],
            "image/png": "[encoded data removed]"
          },
          "metadata": {}
        }
      ],
      "source": [
        "plt.plot(r_win.history['accuracy'], label = 'accuracy', color = 'red')\n",
        "plt.plot(r_win.history['val_accuracy'], label = 'val_accuracy', color = 'blue')\n",
        "plt.title('win with ' + feature + ' accuracy plot')\n",
        "plt.legend()\n",
        "\n",
        "\n",
        "filename_acc = '/content/win_accuracy_plot-' + feature + '.png'\n",
        "plt.savefig(filename_acc, format = 'png')\n"
      ]
    },
    {
      "cell_type": "code",
      "execution_count": null,
      "metadata": {
        "colab": {
          "base_uri": "https://localhost:8080/",
          "height": 452
        },
        "id": "JB6TKK500ZL2",
        "outputId": "e9aa7959-7c76-4e57-e812-d257cb274b3e"
      },
      "outputs": [
        {
          "output_type": "display_data",
          "data": {
            "text/plain": [
              "<Figure size 640x480 with 1 Axes>"
            ],
            "image/png": "[encoded data removed]"
          },
          "metadata": {}
        }
      ],
      "source": [
        "plt.plot(r_win.history['loss'], label = 'loss', color = 'red')\n",
        "plt.plot(r_win.history['val_loss'], label = 'val_loss', color = 'blue')\n",
        "plt.title('win with ' + feature + ' loss plot')\n",
        "plt.legend()\n",
        "\n",
        "\n",
        "filename_loss = '/content/win_loss_plot-' + feature + '.png'\n",
        "plt.savefig(filename_loss, format = 'png')\n"
      ]
    },
    {
      "cell_type": "code",
      "execution_count": null,
      "metadata": {
        "id": "iivazPXinlcb",
        "colab": {
          "base_uri": "https://localhost:8080/",
          "height": 17
        },
        "outputId": "14b08d96-3b15-4109-c8dc-fbadd3128da5"
      },
      "outputs": [
        {
          "output_type": "display_data",
          "data": {
            "text/plain": [
              "<IPython.core.display.Javascript object>"
            ],
            "application/javascript": [
              "\n",
              "    async function download(id, filename, size) {\n",
              "      if (!google.colab.kernel.accessAllowed) {\n",
              "        return;\n",
              "      }\n",
              "      const div = document.createElement('div');\n",
              "      const label = document.createElement('label');\n",
              "      label.textContent = `Downloading \"${filename}\": `;\n",
              "      div.appendChild(label);\n",
              "      const progress = document.createElement('progress');\n",
              "      progress.max = size;\n",
              "      div.appendChild(progress);\n",
              "      document.body.appendChild(div);\n",
              "\n",
              "      const buffers = [];\n",
              "      let downloaded = 0;\n",
              "\n",
              "      const channel = await google.colab.kernel.comms.open(id);\n",
              "      // Send a message to notify the kernel that we're ready.\n",
              "      channel.send({})\n",
              "\n",
              "      for await (const message of channel.messages) {\n",
              "        // Send a message to notify the kernel that we're ready.\n",
              "        channel.send({})\n",
              "        if (message.buffers) {\n",
              "          for (const buffer of message.buffers) {\n",
              "            buffers.push(buffer);\n",
              "            downloaded += buffer.byteLength;\n",
              "            progress.value = downloaded;\n",
              "          }\n",
              "        }\n",
              "      }\n",
              "      const blob = new Blob(buffers, {type: 'application/binary'});\n",
              "      const a = document.createElement('a');\n",
              "      a.href = window.URL.createObjectURL(blob);\n",
              "      a.download = filename;\n",
              "      div.appendChild(a);\n",
              "      a.click();\n",
              "      div.remove();\n",
              "    }\n",
              "  "
            ]
          },
          "metadata": {}
        },
        {
          "output_type": "display_data",
          "data": {
            "text/plain": [
              "<IPython.core.display.Javascript object>"
            ],
            "application/javascript": [
              "download(\"download_6f6e0881-aedf-4a96-ab00-491d985ed842\", \"win_accuracy_plot-REB_away.png\", 33942)"
            ]
          },
          "metadata": {}
        },
        {
          "output_type": "display_data",
          "data": {
            "text/plain": [
              "<IPython.core.display.Javascript object>"
            ],
            "application/javascript": [
              "\n",
              "    async function download(id, filename, size) {\n",
              "      if (!google.colab.kernel.accessAllowed) {\n",
              "        return;\n",
              "      }\n",
              "      const div = document.createElement('div');\n",
              "      const label = document.createElement('label');\n",
              "      label.textContent = `Downloading \"${filename}\": `;\n",
              "      div.appendChild(label);\n",
              "      const progress = document.createElement('progress');\n",
              "      progress.max = size;\n",
              "      div.appendChild(progress);\n",
              "      document.body.appendChild(div);\n",
              "\n",
              "      const buffers = [];\n",
              "      let downloaded = 0;\n",
              "\n",
              "      const channel = await google.colab.kernel.comms.open(id);\n",
              "      // Send a message to notify the kernel that we're ready.\n",
              "      channel.send({})\n",
              "\n",
              "      for await (const message of channel.messages) {\n",
              "        // Send a message to notify the kernel that we're ready.\n",
              "        channel.send({})\n",
              "        if (message.buffers) {\n",
              "          for (const buffer of message.buffers) {\n",
              "            buffers.push(buffer);\n",
              "            downloaded += buffer.byteLength;\n",
              "            progress.value = downloaded;\n",
              "          }\n",
              "        }\n",
              "      }\n",
              "      const blob = new Blob(buffers, {type: 'application/binary'});\n",
              "      const a = document.createElement('a');\n",
              "      a.href = window.URL.createObjectURL(blob);\n",
              "      a.download = filename;\n",
              "      div.appendChild(a);\n",
              "      a.click();\n",
              "      div.remove();\n",
              "    }\n",
              "  "
            ]
          },
          "metadata": {}
        },
        {
          "output_type": "display_data",
          "data": {
            "text/plain": [
              "<IPython.core.display.Javascript object>"
            ],
            "application/javascript": [
              "download(\"download_88ed9ad8-115b-432e-b408-22bd3315feca\", \"win_loss_plot-REB_away.png\", 24048)"
            ]
          },
          "metadata": {}
        }
      ],
      "source": [
        "\n",
        "\n",
        "from google.colab import files\n",
        "\n",
        "files.download(filename_acc)\n",
        "files.download(filename_loss)\n",
        "\n"
      ]
    },
    {
      "cell_type": "code",
      "execution_count": null,
      "metadata": {
        "id": "0cOir0r8Hmmf"
      },
      "outputs": [],
      "source": [
        "#SKONCZONE NA PTS_AWAY"
      ]
    }
  ],
  "metadata": {
    "accelerator": "GPU",
    "colab": {
      "provenance": []
    },
    "kernelspec": {
      "display_name": "Python 3",
      "name": "python3"
    },
    "language_info": {
      "name": "python"
    }
  },
  "nbformat": 4,
  "nbformat_minor": 0
}