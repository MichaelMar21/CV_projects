{
  "nbformat": 4,
  "nbformat_minor": 0,
  "metadata": {
    "colab": {
      "provenance": [],
      "gpuType": "T4"
    },
    "kernelspec": {
      "name": "python3",
      "display_name": "Python 3"
    },
    "language_info": {
      "name": "python"
    },
    "accelerator": "GPU"
  },
  "cells": [
    {
      "cell_type": "code",
      "source": [
        "pip install -q -U keras-tuner"
      ],
      "metadata": {
        "colab": {
          "base_uri": "https://localhost:8080/"
        },
        "id": "jBWtJkJgrHCR",
        "outputId": "47c94070-ee24-4c59-ef1b-1e03d6a9880e"
      },
      "execution_count": null,
      "outputs": [
        {
          "output_type": "stream",
          "name": "stdout",
          "text": [
            "\u001b[2K     \u001b[90m━━━━━━━━━━━━━━━━━━━━━━━━━━━━━━━━━━━━━━━━\u001b[0m \u001b[32m129.5/129.5 kB\u001b[0m \u001b[31m2.5 MB/s\u001b[0m eta \u001b[36m0:00:00\u001b[0m\n",
            "\u001b[2K     \u001b[90m━━━━━━━━━━━━━━━━━━━━━━━━━━━━━━━━━━━━━━━━\u001b[0m \u001b[32m950.8/950.8 kB\u001b[0m \u001b[31m19.9 MB/s\u001b[0m eta \u001b[36m0:00:00\u001b[0m\n",
            "\u001b[?25h"
          ]
        }
      ]
    },
    {
      "cell_type": "code",
      "source": [
        "import tensorflow as tf\n",
        "import pandas as pd\n",
        "import numpy as np\n",
        "import matplotlib.pyplot as plt\n",
        "from tensorflow.keras.layers import Dense, Embedding, Reshape, Input, concatenate, Flatten\n",
        "from tensorflow.keras.models import Model\n",
        "import keras_tuner as kt"
      ],
      "metadata": {
        "id": "LxaHUqRPm526",
        "colab": {
          "base_uri": "https://localhost:8080/"
        },
        "outputId": "434b3926-3248-4e8b-c05d-905b8ee9f81f"
      },
      "execution_count": null,
      "outputs": [
        {
          "output_type": "stream",
          "name": "stdout",
          "text": [
            "Using TensorFlow backend\n"
          ]
        }
      ]
    },
    {
      "cell_type": "code",
      "source": [
        "from google.colab import drive\n",
        "drive.mount('/content/drive')\n",
        "games = pd.read_csv(r'/content/drive/MyDrive/games.csv')\n",
        "games.columns.values"
      ],
      "metadata": {
        "colab": {
          "base_uri": "https://localhost:8080/"
        },
        "id": "2RTuY2QE8UfK",
        "outputId": "d1af4bca-c53b-4664-a07f-8f65de4abe63"
      },
      "execution_count": null,
      "outputs": [
        {
          "output_type": "stream",
          "name": "stdout",
          "text": [
            "Mounted at /content/drive\n"
          ]
        },
        {
          "output_type": "execute_result",
          "data": {
            "text/plain": [
              "array(['GAME_DATE_EST', 'GAME_ID', 'GAME_STATUS_TEXT', 'HOME_TEAM_ID',\n",
              "       'VISITOR_TEAM_ID', 'SEASON', 'TEAM_ID_home', 'PTS_home',\n",
              "       'FG_PCT_home', 'FT_PCT_home', 'FG3_PCT_home', 'AST_home',\n",
              "       'REB_home', 'TEAM_ID_away', 'PTS_away', 'FG_PCT_away',\n",
              "       'FT_PCT_away', 'FG3_PCT_away', 'AST_away', 'REB_away',\n",
              "       'HOME_TEAM_WINS'], dtype=object)"
            ]
          },
          "metadata": {},
          "execution_count": 2
        }
      ]
    },
    {
      "cell_type": "code",
      "source": [
        "#zmiana ID druzyn do prostych wartosci 0 - 29\n",
        "team_id = games['HOME_TEAM_ID'].unique()\n",
        "games = games.replace(team_id, np.arange(0,30,1))\n",
        "games"
      ],
      "metadata": {
        "id": "9zqfOOcHgRtC",
        "colab": {
          "base_uri": "https://localhost:8080/",
          "height": 444
        },
        "outputId": "f590124e-9a9d-4935-9498-87adc9164796"
      },
      "execution_count": null,
      "outputs": [
        {
          "output_type": "execute_result",
          "data": {
            "text/plain": [
              "      GAME_DATE_EST   GAME_ID GAME_STATUS_TEXT  HOME_TEAM_ID  VISITOR_TEAM_ID  \\\n",
              "0        2022-12-22  22200477            Final             0               20   \n",
              "1        2022-12-22  22200478            Final             1               27   \n",
              "2        2022-12-21  22200466            Final             2               21   \n",
              "3        2022-12-21  22200467            Final             3               13   \n",
              "4        2022-12-21  22200468            Final             4               23   \n",
              "...             ...       ...              ...           ...              ...   \n",
              "26646    2014-10-06  11400007            Final             4                0   \n",
              "26647    2014-10-06  11400004            Final            23               27   \n",
              "26648    2014-10-06  11400005            Final            19               16   \n",
              "26649    2014-10-05  11400002            Final            18               11   \n",
              "26650    2014-10-04  11400001            Final            14                0   \n",
              "\n",
              "       SEASON  TEAM_ID_home  PTS_home  FG_PCT_home  FT_PCT_home  ...  \\\n",
              "0        2022             0     126.0        0.484        0.926  ...   \n",
              "1        2022             1     120.0        0.488        0.952  ...   \n",
              "2        2022             2     114.0        0.482        0.786  ...   \n",
              "3        2022             3     113.0        0.441        0.909  ...   \n",
              "4        2022             4     108.0        0.429        1.000  ...   \n",
              "...       ...           ...       ...          ...          ...  ...   \n",
              "26646    2014             4      93.0        0.419        0.821  ...   \n",
              "26647    2014            23      81.0        0.338        0.719  ...   \n",
              "26648    2014            19      98.0        0.448        0.682  ...   \n",
              "26649    2014            18      99.0        0.440        0.771  ...   \n",
              "26650    2014            14      86.0        0.431        0.679  ...   \n",
              "\n",
              "       AST_home  REB_home  TEAM_ID_away  PTS_away  FG_PCT_away  FT_PCT_away  \\\n",
              "0          25.0      46.0            20     117.0        0.478        0.815   \n",
              "1          16.0      40.0            27     112.0        0.561        0.765   \n",
              "2          22.0      37.0            21     106.0        0.470        0.682   \n",
              "3          27.0      49.0            13      93.0        0.392        0.735   \n",
              "4          22.0      47.0            23     110.0        0.500        0.773   \n",
              "...         ...       ...           ...       ...          ...          ...   \n",
              "26646      24.0      50.0             0      87.0        0.366        0.643   \n",
              "26647      18.0      40.0            27      85.0        0.411        0.636   \n",
              "26648      29.0      45.0            16      95.0        0.387        0.659   \n",
              "26649      21.0      30.0            11      94.0        0.469        0.725   \n",
              "26650      18.0      42.0             0      98.0        0.462        0.706   \n",
              "\n",
              "       FG3_PCT_away  AST_away  REB_away  HOME_TEAM_WINS  \n",
              "0             0.321      23.0      44.0               1  \n",
              "1             0.333      20.0      37.0               1  \n",
              "2             0.433      20.0      46.0               1  \n",
              "3             0.261      15.0      46.0               1  \n",
              "4             0.292      20.0      47.0               0  \n",
              "...             ...       ...       ...             ...  \n",
              "26646         0.375      17.0      43.0               1  \n",
              "26647         0.267      17.0      47.0               0  \n",
              "26648         0.500      19.0      43.0               1  \n",
              "26649         0.385      18.0      45.0               1  \n",
              "26650         0.438      19.0      42.0               0  \n",
              "\n",
              "[26651 rows x 21 columns]"
            ],
            "text/html": [
              "\n",
              "  <div id=\"df-979dc2eb-5400-4971-aa94-cc5bcdd3b00d\" class=\"colab-df-container\">\n",
              "    <div>\n",
              "<style scoped>\n",
              "    .dataframe tbody tr th:only-of-type {\n",
              "        vertical-align: middle;\n",
              "    }\n",
              "\n",
              "    .dataframe tbody tr th {\n",
              "        vertical-align: top;\n",
              "    }\n",
              "\n",
              "    .dataframe thead th {\n",
              "        text-align: right;\n",
              "    }\n",
              "</style>\n",
              "<table border=\"1\" class=\"dataframe\">\n",
              "  <thead>\n",
              "    <tr style=\"text-align: right;\">\n",
              "      <th></th>\n",
              "      <th>GAME_DATE_EST</th>\n",
              "      <th>GAME_ID</th>\n",
              "      <th>GAME_STATUS_TEXT</th>\n",
              "      <th>HOME_TEAM_ID</th>\n",
              "      <th>VISITOR_TEAM_ID</th>\n",
              "      <th>SEASON</th>\n",
              "      <th>TEAM_ID_home</th>\n",
              "      <th>PTS_home</th>\n",
              "      <th>FG_PCT_home</th>\n",
              "      <th>FT_PCT_home</th>\n",
              "      <th>...</th>\n",
              "      <th>AST_home</th>\n",
              "      <th>REB_home</th>\n",
              "      <th>TEAM_ID_away</th>\n",
              "      <th>PTS_away</th>\n",
              "      <th>FG_PCT_away</th>\n",
              "      <th>FT_PCT_away</th>\n",
              "      <th>FG3_PCT_away</th>\n",
              "      <th>AST_away</th>\n",
              "      <th>REB_away</th>\n",
              "      <th>HOME_TEAM_WINS</th>\n",
              "    </tr>\n",
              "  </thead>\n",
              "  <tbody>\n",
              "    <tr>\n",
              "      <th>0</th>\n",
              "      <td>2022-12-22</td>\n",
              "      <td>22200477</td>\n",
              "      <td>Final</td>\n",
              "      <td>0</td>\n",
              "      <td>20</td>\n",
              "      <td>2022</td>\n",
              "      <td>0</td>\n",
              "      <td>126.0</td>\n",
              "      <td>0.484</td>\n",
              "      <td>0.926</td>\n",
              "      <td>...</td>\n",
              "      <td>25.0</td>\n",
              "      <td>46.0</td>\n",
              "      <td>20</td>\n",
              "      <td>117.0</td>\n",
              "      <td>0.478</td>\n",
              "      <td>0.815</td>\n",
              "      <td>0.321</td>\n",
              "      <td>23.0</td>\n",
              "      <td>44.0</td>\n",
              "      <td>1</td>\n",
              "    </tr>\n",
              "    <tr>\n",
              "      <th>1</th>\n",
              "      <td>2022-12-22</td>\n",
              "      <td>22200478</td>\n",
              "      <td>Final</td>\n",
              "      <td>1</td>\n",
              "      <td>27</td>\n",
              "      <td>2022</td>\n",
              "      <td>1</td>\n",
              "      <td>120.0</td>\n",
              "      <td>0.488</td>\n",
              "      <td>0.952</td>\n",
              "      <td>...</td>\n",
              "      <td>16.0</td>\n",
              "      <td>40.0</td>\n",
              "      <td>27</td>\n",
              "      <td>112.0</td>\n",
              "      <td>0.561</td>\n",
              "      <td>0.765</td>\n",
              "      <td>0.333</td>\n",
              "      <td>20.0</td>\n",
              "      <td>37.0</td>\n",
              "      <td>1</td>\n",
              "    </tr>\n",
              "    <tr>\n",
              "      <th>2</th>\n",
              "      <td>2022-12-21</td>\n",
              "      <td>22200466</td>\n",
              "      <td>Final</td>\n",
              "      <td>2</td>\n",
              "      <td>21</td>\n",
              "      <td>2022</td>\n",
              "      <td>2</td>\n",
              "      <td>114.0</td>\n",
              "      <td>0.482</td>\n",
              "      <td>0.786</td>\n",
              "      <td>...</td>\n",
              "      <td>22.0</td>\n",
              "      <td>37.0</td>\n",
              "      <td>21</td>\n",
              "      <td>106.0</td>\n",
              "      <td>0.470</td>\n",
              "      <td>0.682</td>\n",
              "      <td>0.433</td>\n",
              "      <td>20.0</td>\n",
              "      <td>46.0</td>\n",
              "      <td>1</td>\n",
              "    </tr>\n",
              "    <tr>\n",
              "      <th>3</th>\n",
              "      <td>2022-12-21</td>\n",
              "      <td>22200467</td>\n",
              "      <td>Final</td>\n",
              "      <td>3</td>\n",
              "      <td>13</td>\n",
              "      <td>2022</td>\n",
              "      <td>3</td>\n",
              "      <td>113.0</td>\n",
              "      <td>0.441</td>\n",
              "      <td>0.909</td>\n",
              "      <td>...</td>\n",
              "      <td>27.0</td>\n",
              "      <td>49.0</td>\n",
              "      <td>13</td>\n",
              "      <td>93.0</td>\n",
              "      <td>0.392</td>\n",
              "      <td>0.735</td>\n",
              "      <td>0.261</td>\n",
              "      <td>15.0</td>\n",
              "      <td>46.0</td>\n",
              "      <td>1</td>\n",
              "    </tr>\n",
              "    <tr>\n",
              "      <th>4</th>\n",
              "      <td>2022-12-21</td>\n",
              "      <td>22200468</td>\n",
              "      <td>Final</td>\n",
              "      <td>4</td>\n",
              "      <td>23</td>\n",
              "      <td>2022</td>\n",
              "      <td>4</td>\n",
              "      <td>108.0</td>\n",
              "      <td>0.429</td>\n",
              "      <td>1.000</td>\n",
              "      <td>...</td>\n",
              "      <td>22.0</td>\n",
              "      <td>47.0</td>\n",
              "      <td>23</td>\n",
              "      <td>110.0</td>\n",
              "      <td>0.500</td>\n",
              "      <td>0.773</td>\n",
              "      <td>0.292</td>\n",
              "      <td>20.0</td>\n",
              "      <td>47.0</td>\n",
              "      <td>0</td>\n",
              "    </tr>\n",
              "    <tr>\n",
              "      <th>...</th>\n",
              "      <td>...</td>\n",
              "      <td>...</td>\n",
              "      <td>...</td>\n",
              "      <td>...</td>\n",
              "      <td>...</td>\n",
              "      <td>...</td>\n",
              "      <td>...</td>\n",
              "      <td>...</td>\n",
              "      <td>...</td>\n",
              "      <td>...</td>\n",
              "      <td>...</td>\n",
              "      <td>...</td>\n",
              "      <td>...</td>\n",
              "      <td>...</td>\n",
              "      <td>...</td>\n",
              "      <td>...</td>\n",
              "      <td>...</td>\n",
              "      <td>...</td>\n",
              "      <td>...</td>\n",
              "      <td>...</td>\n",
              "      <td>...</td>\n",
              "    </tr>\n",
              "    <tr>\n",
              "      <th>26646</th>\n",
              "      <td>2014-10-06</td>\n",
              "      <td>11400007</td>\n",
              "      <td>Final</td>\n",
              "      <td>4</td>\n",
              "      <td>0</td>\n",
              "      <td>2014</td>\n",
              "      <td>4</td>\n",
              "      <td>93.0</td>\n",
              "      <td>0.419</td>\n",
              "      <td>0.821</td>\n",
              "      <td>...</td>\n",
              "      <td>24.0</td>\n",
              "      <td>50.0</td>\n",
              "      <td>0</td>\n",
              "      <td>87.0</td>\n",
              "      <td>0.366</td>\n",
              "      <td>0.643</td>\n",
              "      <td>0.375</td>\n",
              "      <td>17.0</td>\n",
              "      <td>43.0</td>\n",
              "      <td>1</td>\n",
              "    </tr>\n",
              "    <tr>\n",
              "      <th>26647</th>\n",
              "      <td>2014-10-06</td>\n",
              "      <td>11400004</td>\n",
              "      <td>Final</td>\n",
              "      <td>23</td>\n",
              "      <td>27</td>\n",
              "      <td>2014</td>\n",
              "      <td>23</td>\n",
              "      <td>81.0</td>\n",
              "      <td>0.338</td>\n",
              "      <td>0.719</td>\n",
              "      <td>...</td>\n",
              "      <td>18.0</td>\n",
              "      <td>40.0</td>\n",
              "      <td>27</td>\n",
              "      <td>85.0</td>\n",
              "      <td>0.411</td>\n",
              "      <td>0.636</td>\n",
              "      <td>0.267</td>\n",
              "      <td>17.0</td>\n",
              "      <td>47.0</td>\n",
              "      <td>0</td>\n",
              "    </tr>\n",
              "    <tr>\n",
              "      <th>26648</th>\n",
              "      <td>2014-10-06</td>\n",
              "      <td>11400005</td>\n",
              "      <td>Final</td>\n",
              "      <td>19</td>\n",
              "      <td>16</td>\n",
              "      <td>2014</td>\n",
              "      <td>19</td>\n",
              "      <td>98.0</td>\n",
              "      <td>0.448</td>\n",
              "      <td>0.682</td>\n",
              "      <td>...</td>\n",
              "      <td>29.0</td>\n",
              "      <td>45.0</td>\n",
              "      <td>16</td>\n",
              "      <td>95.0</td>\n",
              "      <td>0.387</td>\n",
              "      <td>0.659</td>\n",
              "      <td>0.500</td>\n",
              "      <td>19.0</td>\n",
              "      <td>43.0</td>\n",
              "      <td>1</td>\n",
              "    </tr>\n",
              "    <tr>\n",
              "      <th>26649</th>\n",
              "      <td>2014-10-05</td>\n",
              "      <td>11400002</td>\n",
              "      <td>Final</td>\n",
              "      <td>18</td>\n",
              "      <td>11</td>\n",
              "      <td>2014</td>\n",
              "      <td>18</td>\n",
              "      <td>99.0</td>\n",
              "      <td>0.440</td>\n",
              "      <td>0.771</td>\n",
              "      <td>...</td>\n",
              "      <td>21.0</td>\n",
              "      <td>30.0</td>\n",
              "      <td>11</td>\n",
              "      <td>94.0</td>\n",
              "      <td>0.469</td>\n",
              "      <td>0.725</td>\n",
              "      <td>0.385</td>\n",
              "      <td>18.0</td>\n",
              "      <td>45.0</td>\n",
              "      <td>1</td>\n",
              "    </tr>\n",
              "    <tr>\n",
              "      <th>26650</th>\n",
              "      <td>2014-10-04</td>\n",
              "      <td>11400001</td>\n",
              "      <td>Final</td>\n",
              "      <td>14</td>\n",
              "      <td>0</td>\n",
              "      <td>2014</td>\n",
              "      <td>14</td>\n",
              "      <td>86.0</td>\n",
              "      <td>0.431</td>\n",
              "      <td>0.679</td>\n",
              "      <td>...</td>\n",
              "      <td>18.0</td>\n",
              "      <td>42.0</td>\n",
              "      <td>0</td>\n",
              "      <td>98.0</td>\n",
              "      <td>0.462</td>\n",
              "      <td>0.706</td>\n",
              "      <td>0.438</td>\n",
              "      <td>19.0</td>\n",
              "      <td>42.0</td>\n",
              "      <td>0</td>\n",
              "    </tr>\n",
              "  </tbody>\n",
              "</table>\n",
              "<p>26651 rows × 21 columns</p>\n",
              "</div>\n",
              "    <div class=\"colab-df-buttons\">\n",
              "\n",
              "  <div class=\"colab-df-container\">\n",
              "    <button class=\"colab-df-convert\" onclick=\"convertToInteractive('df-979dc2eb-5400-4971-aa94-cc5bcdd3b00d')\"\n",
              "            title=\"Convert this dataframe to an interactive table.\"\n",
              "            style=\"display:none;\">\n",
              "\n",
              "  <svg xmlns=\"http://www.w3.org/2000/svg\" height=\"24px\" viewBox=\"0 -960 960 960\">\n",
              "    <path d=\"M120-120v-720h720v720H120Zm60-500h600v-160H180v160Zm220 220h160v-160H400v160Zm0 220h160v-160H400v160ZM180-400h160v-160H180v160Zm440 0h160v-160H620v160ZM180-180h160v-160H180v160Zm440 0h160v-160H620v160Z\"/>\n",
              "  </svg>\n",
              "    </button>\n",
              "\n",
              "  <style>\n",
              "    .colab-df-container {\n",
              "      display:flex;\n",
              "      gap: 12px;\n",
              "    }\n",
              "\n",
              "    .colab-df-convert {\n",
              "      background-color: #E8F0FE;\n",
              "      border: none;\n",
              "      border-radius: 50%;\n",
              "      cursor: pointer;\n",
              "      display: none;\n",
              "      fill: #1967D2;\n",
              "      height: 32px;\n",
              "      padding: 0 0 0 0;\n",
              "      width: 32px;\n",
              "    }\n",
              "\n",
              "    .colab-df-convert:hover {\n",
              "      background-color: #E2EBFA;\n",
              "      box-shadow: 0px 1px 2px rgba(60, 64, 67, 0.3), 0px 1px 3px 1px rgba(60, 64, 67, 0.15);\n",
              "      fill: #174EA6;\n",
              "    }\n",
              "\n",
              "    .colab-df-buttons div {\n",
              "      margin-bottom: 4px;\n",
              "    }\n",
              "\n",
              "    [theme=dark] .colab-df-convert {\n",
              "      background-color: #3B4455;\n",
              "      fill: #D2E3FC;\n",
              "    }\n",
              "\n",
              "    [theme=dark] .colab-df-convert:hover {\n",
              "      background-color: #434B5C;\n",
              "      box-shadow: 0px 1px 3px 1px rgba(0, 0, 0, 0.15);\n",
              "      filter: drop-shadow(0px 1px 2px rgba(0, 0, 0, 0.3));\n",
              "      fill: #FFFFFF;\n",
              "    }\n",
              "  </style>\n",
              "\n",
              "    <script>\n",
              "      const buttonEl =\n",
              "        document.querySelector('#df-979dc2eb-5400-4971-aa94-cc5bcdd3b00d button.colab-df-convert');\n",
              "      buttonEl.style.display =\n",
              "        google.colab.kernel.accessAllowed ? 'block' : 'none';\n",
              "\n",
              "      async function convertToInteractive(key) {\n",
              "        const element = document.querySelector('#df-979dc2eb-5400-4971-aa94-cc5bcdd3b00d');\n",
              "        const dataTable =\n",
              "          await google.colab.kernel.invokeFunction('convertToInteractive',\n",
              "                                                    [key], {});\n",
              "        if (!dataTable) return;\n",
              "\n",
              "        const docLinkHtml = 'Like what you see? Visit the ' +\n",
              "          '<a target=\"_blank\" href=https://colab.research.google.com/notebooks/data_table.ipynb>data table notebook</a>'\n",
              "          + ' to learn more about interactive tables.';\n",
              "        element.innerHTML = '';\n",
              "        dataTable['output_type'] = 'display_data';\n",
              "        await google.colab.output.renderOutput(dataTable, element);\n",
              "        const docLink = document.createElement('div');\n",
              "        docLink.innerHTML = docLinkHtml;\n",
              "        element.appendChild(docLink);\n",
              "      }\n",
              "    </script>\n",
              "  </div>\n",
              "\n",
              "\n",
              "<div id=\"df-39897614-fd66-4de8-8eab-dfdf1b78016e\">\n",
              "  <button class=\"colab-df-quickchart\" onclick=\"quickchart('df-39897614-fd66-4de8-8eab-dfdf1b78016e')\"\n",
              "            title=\"Suggest charts.\"\n",
              "            style=\"display:none;\">\n",
              "\n",
              "<svg xmlns=\"http://www.w3.org/2000/svg\" height=\"24px\"viewBox=\"0 0 24 24\"\n",
              "     width=\"24px\">\n",
              "    <g>\n",
              "        <path d=\"M19 3H5c-1.1 0-2 .9-2 2v14c0 1.1.9 2 2 2h14c1.1 0 2-.9 2-2V5c0-1.1-.9-2-2-2zM9 17H7v-7h2v7zm4 0h-2V7h2v10zm4 0h-2v-4h2v4z\"/>\n",
              "    </g>\n",
              "</svg>\n",
              "  </button>\n",
              "\n",
              "<style>\n",
              "  .colab-df-quickchart {\n",
              "      --bg-color: #E8F0FE;\n",
              "      --fill-color: #1967D2;\n",
              "      --hover-bg-color: #E2EBFA;\n",
              "      --hover-fill-color: #174EA6;\n",
              "      --disabled-fill-color: #AAA;\n",
              "      --disabled-bg-color: #DDD;\n",
              "  }\n",
              "\n",
              "  [theme=dark] .colab-df-quickchart {\n",
              "      --bg-color: #3B4455;\n",
              "      --fill-color: #D2E3FC;\n",
              "      --hover-bg-color: #434B5C;\n",
              "      --hover-fill-color: #FFFFFF;\n",
              "      --disabled-bg-color: #3B4455;\n",
              "      --disabled-fill-color: #666;\n",
              "  }\n",
              "\n",
              "  .colab-df-quickchart {\n",
              "    background-color: var(--bg-color);\n",
              "    border: none;\n",
              "    border-radius: 50%;\n",
              "    cursor: pointer;\n",
              "    display: none;\n",
              "    fill: var(--fill-color);\n",
              "    height: 32px;\n",
              "    padding: 0;\n",
              "    width: 32px;\n",
              "  }\n",
              "\n",
              "  .colab-df-quickchart:hover {\n",
              "    background-color: var(--hover-bg-color);\n",
              "    box-shadow: 0 1px 2px rgba(60, 64, 67, 0.3), 0 1px 3px 1px rgba(60, 64, 67, 0.15);\n",
              "    fill: var(--button-hover-fill-color);\n",
              "  }\n",
              "\n",
              "  .colab-df-quickchart-complete:disabled,\n",
              "  .colab-df-quickchart-complete:disabled:hover {\n",
              "    background-color: var(--disabled-bg-color);\n",
              "    fill: var(--disabled-fill-color);\n",
              "    box-shadow: none;\n",
              "  }\n",
              "\n",
              "  .colab-df-spinner {\n",
              "    border: 2px solid var(--fill-color);\n",
              "    border-color: transparent;\n",
              "    border-bottom-color: var(--fill-color);\n",
              "    animation:\n",
              "      spin 1s steps(1) infinite;\n",
              "  }\n",
              "\n",
              "  @keyframes spin {\n",
              "    0% {\n",
              "      border-color: transparent;\n",
              "      border-bottom-color: var(--fill-color);\n",
              "      border-left-color: var(--fill-color);\n",
              "    }\n",
              "    20% {\n",
              "      border-color: transparent;\n",
              "      border-left-color: var(--fill-color);\n",
              "      border-top-color: var(--fill-color);\n",
              "    }\n",
              "    30% {\n",
              "      border-color: transparent;\n",
              "      border-left-color: var(--fill-color);\n",
              "      border-top-color: var(--fill-color);\n",
              "      border-right-color: var(--fill-color);\n",
              "    }\n",
              "    40% {\n",
              "      border-color: transparent;\n",
              "      border-right-color: var(--fill-color);\n",
              "      border-top-color: var(--fill-color);\n",
              "    }\n",
              "    60% {\n",
              "      border-color: transparent;\n",
              "      border-right-color: var(--fill-color);\n",
              "    }\n",
              "    80% {\n",
              "      border-color: transparent;\n",
              "      border-right-color: var(--fill-color);\n",
              "      border-bottom-color: var(--fill-color);\n",
              "    }\n",
              "    90% {\n",
              "      border-color: transparent;\n",
              "      border-bottom-color: var(--fill-color);\n",
              "    }\n",
              "  }\n",
              "</style>\n",
              "\n",
              "  <script>\n",
              "    async function quickchart(key) {\n",
              "      const quickchartButtonEl =\n",
              "        document.querySelector('#' + key + ' button');\n",
              "      quickchartButtonEl.disabled = true;  // To prevent multiple clicks.\n",
              "      quickchartButtonEl.classList.add('colab-df-spinner');\n",
              "      try {\n",
              "        const charts = await google.colab.kernel.invokeFunction(\n",
              "            'suggestCharts', [key], {});\n",
              "      } catch (error) {\n",
              "        console.error('Error during call to suggestCharts:', error);\n",
              "      }\n",
              "      quickchartButtonEl.classList.remove('colab-df-spinner');\n",
              "      quickchartButtonEl.classList.add('colab-df-quickchart-complete');\n",
              "    }\n",
              "    (() => {\n",
              "      let quickchartButtonEl =\n",
              "        document.querySelector('#df-39897614-fd66-4de8-8eab-dfdf1b78016e button');\n",
              "      quickchartButtonEl.style.display =\n",
              "        google.colab.kernel.accessAllowed ? 'block' : 'none';\n",
              "    })();\n",
              "  </script>\n",
              "</div>\n",
              "    </div>\n",
              "  </div>\n"
            ]
          },
          "metadata": {},
          "execution_count": 3
        }
      ]
    },
    {
      "cell_type": "code",
      "source": [
        "def divide_seasons(season_1, season_2, feature ,pd_games = games):\n",
        "    result_1 = pd_games[pd_games['SEASON'] == season_1]\n",
        "    result_2 = pd_games[pd_games['SEASON'] == season_2]\n",
        "    result = pd.concat([result_1, result_2])\n",
        "    result = result.loc[: , ~result.columns.isin(['GAME_DATE_EST', 'GAME_ID', 'GAME_STATUS_TEXT', 'TEAM_ID_home', 'TEAM_ID_away', 'SEASON'])]\n",
        "    X_result_id = result.loc[: , ['HOME_TEAM_ID', 'VISITOR_TEAM_ID']].to_numpy()\n",
        "    y_result_win = result['HOME_TEAM_WINS'].to_numpy()\n",
        "    y_result_feat = result[feature].to_numpy()\n",
        "    return X_result_id, y_result_feat, y_result_win\n"
      ],
      "metadata": {
        "id": "NvvA4bGaqQyR"
      },
      "execution_count": null,
      "outputs": []
    },
    {
      "cell_type": "code",
      "source": [
        "\n",
        "#generator do tworzenia wykresow\n",
        "features = ['PTS_home',\n",
        "       'FG_PCT_home', 'FT_PCT_home', 'FG3_PCT_home', 'AST_home',\n",
        "       'REB_home','PTS_away', 'FG_PCT_away',\n",
        "       'FT_PCT_away','FG3_PCT_away', 'AST_away', 'REB_away',\n",
        "]\n"
      ],
      "metadata": {
        "id": "4DsmLckW0y7_"
      },
      "execution_count": null,
      "outputs": []
    },
    {
      "cell_type": "code",
      "source": [
        "\n",
        "def generator(lista):\n",
        "  for number in lista:\n",
        "    yield number\n",
        "\n",
        "gen = generator(features)  #/// odkomentowac do tworzenia 1 wykresu, pozniej zakomentowac\n"
      ],
      "metadata": {
        "id": "lqKjOgbXzzDg"
      },
      "execution_count": null,
      "outputs": []
    },
    {
      "cell_type": "code",
      "source": [
        "\n",
        "feature = next(gen)\n",
        "print(feature)"
      ],
      "metadata": {
        "colab": {
          "base_uri": "https://localhost:8080/"
        },
        "id": "NJDo86qB1G5u",
        "outputId": "bb187198-b613-476c-9f7f-88425504b93d"
      },
      "execution_count": null,
      "outputs": [
        {
          "output_type": "stream",
          "name": "stdout",
          "text": [
            "PTS_home\n"
          ]
        }
      ]
    },
    {
      "cell_type": "code",
      "source": [
        "#zbior treningowy 2017/18 + 2018/19\n",
        "X_train_id, y_train_feat, y_train_win = divide_seasons(2017, 2018, feature)\n",
        "\n",
        "#zbior walidacyjny 2019/20   2020/21\n",
        "X_valid_id, y_valid_feat, y_valid_win = divide_seasons(2019, 2020, feature)       #mniejsza ilosc meczy ze wzgledu na COVID\n",
        "\n",
        "#zbior testowy - 2021/22 2022/23\n",
        "X_test_id, y_test_feat, y_test_win  = divide_seasons(2021, 2022, feature)       #roznica w ilosci wynika z niedokonczonego sezonu 2022 (do konca grudnia)"
      ],
      "metadata": {
        "id": "TBNjH1Jr0FqK"
      },
      "execution_count": null,
      "outputs": []
    },
    {
      "cell_type": "code",
      "source": [
        "#model_feat - feature\n",
        "input_embedding_feat = Input(shape = (2,))\n",
        "embedding_feat = Embedding(input_dim=30, output_dim=5, input_length=2)(input_embedding_feat)\n",
        "embedding_feat = Dense(100)(embedding_feat)   #bottleneck layer\n",
        "embedding_feat = Flatten()(embedding_feat)\n",
        "output_feat = Dense(1, activation = 'sigmoid')(embedding_feat)\n",
        "\n",
        "model_feat = Model(input_embedding_feat, output_feat)\n",
        "model_feat.compile(optimizer = 'adam', loss = 'mse')\n",
        "model_feat.summary()\n",
        "r_feat = model_feat.fit(X_train_id, y_train_feat, epochs = 1, validation_data = (X_valid_id, y_valid_feat), verbose = False)\n"
      ],
      "metadata": {
        "id": "J72OCCkoP85x",
        "colab": {
          "base_uri": "https://localhost:8080/"
        },
        "outputId": "397dd4be-b335-4fec-d674-55a79d6c180c"
      },
      "execution_count": null,
      "outputs": [
        {
          "output_type": "stream",
          "name": "stdout",
          "text": [
            "Model: \"model_1\"\n",
            "_________________________________________________________________\n",
            " Layer (type)                Output Shape              Param #   \n",
            "=================================================================\n",
            " input_2 (InputLayer)        [(None, 2)]               0         \n",
            "                                                                 \n",
            " embedding_1 (Embedding)     (None, 2, 5)              150       \n",
            "                                                                 \n",
            " dense_2 (Dense)             (None, 2, 100)            600       \n",
            "                                                                 \n",
            " flatten_1 (Flatten)         (None, 200)               0         \n",
            "                                                                 \n",
            " dense_3 (Dense)             (None, 1)                 201       \n",
            "                                                                 \n",
            "=================================================================\n",
            "Total params: 951 (3.71 KB)\n",
            "Trainable params: 951 (3.71 KB)\n",
            "Non-trainable params: 0 (0.00 Byte)\n",
            "_________________________________________________________________\n"
          ]
        }
      ]
    },
    {
      "cell_type": "code",
      "source": [
        "plt.plot(r_feat.history['loss'])\n",
        "plt.plot(r_feat.history['val_loss'])"
      ],
      "metadata": {
        "id": "xXhHZ9fEaolL"
      },
      "execution_count": null,
      "outputs": []
    },
    {
      "cell_type": "code",
      "source": [
        "#freeze wag model_feat\n",
        "for layer in model_feat.layers:\n",
        "    layer.trainable=False\n",
        "print(output_feat.shape)\n",
        "\n",
        "#model - win\n",
        "input_embedding_win = Input(shape = (2,))\n",
        "embedding_win = Embedding(input_dim=30, output_dim=5, input_length=2)(input_embedding_win)\n",
        "embedding_win = Flatten()(embedding_win)\n",
        "print(embedding_win.shape)\n",
        "\n",
        "\n",
        "merged = concatenate([output_feat, embedding_win])\n",
        "\n",
        "#zmienic ilosc neuronow\n",
        "merged = Dense(64, activation = 'relu')(merged)\n",
        "merged = Dense(64, activation = 'relu')(merged)\n",
        "###\n",
        "output = Dense(1, activation = 'sigmoid')(merged)\n",
        "\n",
        "model_win = Model(inputs = [input_embedding_win, input_embedding_feat], outputs = output)\n",
        "model_win.compile(optimizer='adam', loss = 'binary_crossentropy', metrics = ['accuracy'])\n",
        "model_win.summary()"
      ],
      "metadata": {
        "colab": {
          "base_uri": "https://localhost:8080/"
        },
        "id": "0XQgJvijFqPQ",
        "outputId": "89459ca9-c97a-4a66-edad-8ba4a9680eb7"
      },
      "execution_count": null,
      "outputs": [
        {
          "output_type": "stream",
          "name": "stdout",
          "text": [
            "(None, 1)\n",
            "(None, 10)\n",
            "Model: \"model_37\"\n",
            "__________________________________________________________________________________________________\n",
            " Layer (type)                Output Shape                 Param #   Connected to                  \n",
            "==================================================================================================\n",
            " input_25 (InputLayer)       [(None, 2)]                  0         []                            \n",
            "                                                                                                  \n",
            " embedding_24 (Embedding)    (None, 2, 5)                 150       ['input_25[0][0]']            \n",
            "                                                                                                  \n",
            " dense_84 (Dense)            (None, 2, 100)               600       ['embedding_24[0][0]']        \n",
            "                                                                                                  \n",
            " input_26 (InputLayer)       [(None, 2)]                  0         []                            \n",
            "                                                                                                  \n",
            " flatten_24 (Flatten)        (None, 200)                  0         ['dense_84[0][0]']            \n",
            "                                                                                                  \n",
            " embedding_25 (Embedding)    (None, 2, 5)                 150       ['input_26[0][0]']            \n",
            "                                                                                                  \n",
            " dense_85 (Dense)            (None, 1)                    201       ['flatten_24[0][0]']          \n",
            "                                                                                                  \n",
            " flatten_25 (Flatten)        (None, 10)                   0         ['embedding_25[0][0]']        \n",
            "                                                                                                  \n",
            " concatenate_24 (Concatenat  (None, 11)                   0         ['dense_85[0][0]',            \n",
            " e)                                                                  'flatten_25[0][0]']          \n",
            "                                                                                                  \n",
            " dense_86 (Dense)            (None, 64)                   768       ['concatenate_24[0][0]']      \n",
            "                                                                                                  \n",
            " dense_87 (Dense)            (None, 64)                   4160      ['dense_86[0][0]']            \n",
            "                                                                                                  \n",
            " dense_88 (Dense)            (None, 1)                    65        ['dense_87[0][0]']            \n",
            "                                                                                                  \n",
            "==================================================================================================\n",
            "Total params: 6094 (23.80 KB)\n",
            "Trainable params: 5143 (20.09 KB)\n",
            "Non-trainable params: 951 (3.71 KB)\n",
            "__________________________________________________________________________________________________\n"
          ]
        }
      ]
    },
    {
      "cell_type": "code",
      "source": [
        "r = model_win.fit([X_train_id, X_train_id], y_train_win, epochs = 50, validation_data = ([X_valid_id,X_valid_id] , y_valid_win))"
      ],
      "metadata": {
        "colab": {
          "base_uri": "https://localhost:8080/"
        },
        "id": "bAQ_m1Du7Fof",
        "outputId": "de0f56de-2d2f-49d9-85ab-0b78ec6664a1"
      },
      "execution_count": null,
      "outputs": [
        {
          "output_type": "stream",
          "name": "stdout",
          "text": [
            "Epoch 1/50\n",
            "87/87 [==============================] - 3s 18ms/step - loss: 0.6799 - accuracy: 0.5804 - val_loss: 0.6897 - val_accuracy: 0.5410\n",
            "Epoch 2/50\n",
            "87/87 [==============================] - 1s 13ms/step - loss: 0.6556 - accuracy: 0.6040 - val_loss: 0.7094 - val_accuracy: 0.5522\n",
            "Epoch 3/50\n",
            "87/87 [==============================] - 1s 12ms/step - loss: 0.6164 - accuracy: 0.6692 - val_loss: 0.7381 - val_accuracy: 0.5434\n",
            "Epoch 4/50\n",
            "87/87 [==============================] - 1s 10ms/step - loss: 0.6114 - accuracy: 0.6717 - val_loss: 0.7438 - val_accuracy: 0.5357\n",
            "Epoch 5/50\n",
            "87/87 [==============================] - 1s 11ms/step - loss: 0.6091 - accuracy: 0.6743 - val_loss: 0.7534 - val_accuracy: 0.5466\n",
            "Epoch 6/50\n",
            "87/87 [==============================] - 1s 8ms/step - loss: 0.6088 - accuracy: 0.6667 - val_loss: 0.7550 - val_accuracy: 0.5426\n",
            "Epoch 7/50\n",
            "87/87 [==============================] - 1s 7ms/step - loss: 0.6071 - accuracy: 0.6736 - val_loss: 0.7406 - val_accuracy: 0.5293\n",
            "Epoch 8/50\n",
            "87/87 [==============================] - 1s 7ms/step - loss: 0.6056 - accuracy: 0.6699 - val_loss: 0.7625 - val_accuracy: 0.5357\n",
            "Epoch 9/50\n",
            "87/87 [==============================] - 1s 9ms/step - loss: 0.6061 - accuracy: 0.6699 - val_loss: 0.7572 - val_accuracy: 0.5353\n",
            "Epoch 10/50\n",
            "87/87 [==============================] - 1s 7ms/step - loss: 0.6063 - accuracy: 0.6707 - val_loss: 0.7504 - val_accuracy: 0.5365\n",
            "Epoch 11/50\n",
            "87/87 [==============================] - 1s 7ms/step - loss: 0.6053 - accuracy: 0.6710 - val_loss: 0.7684 - val_accuracy: 0.5353\n",
            "Epoch 12/50\n",
            "87/87 [==============================] - 1s 8ms/step - loss: 0.6065 - accuracy: 0.6783 - val_loss: 0.7649 - val_accuracy: 0.5365\n",
            "Epoch 13/50\n",
            "87/87 [==============================] - 1s 7ms/step - loss: 0.6049 - accuracy: 0.6707 - val_loss: 0.7469 - val_accuracy: 0.5369\n",
            "Epoch 14/50\n",
            "87/87 [==============================] - 1s 8ms/step - loss: 0.6038 - accuracy: 0.6725 - val_loss: 0.7625 - val_accuracy: 0.5382\n",
            "Epoch 15/50\n",
            "87/87 [==============================] - 1s 8ms/step - loss: 0.6037 - accuracy: 0.6681 - val_loss: 0.7524 - val_accuracy: 0.5317\n",
            "Epoch 16/50\n",
            "87/87 [==============================] - 1s 8ms/step - loss: 0.6036 - accuracy: 0.6728 - val_loss: 0.7571 - val_accuracy: 0.5386\n",
            "Epoch 17/50\n",
            "87/87 [==============================] - 1s 8ms/step - loss: 0.6034 - accuracy: 0.6717 - val_loss: 0.7692 - val_accuracy: 0.5434\n",
            "Epoch 18/50\n",
            "87/87 [==============================] - 1s 7ms/step - loss: 0.6035 - accuracy: 0.6688 - val_loss: 0.7578 - val_accuracy: 0.5378\n",
            "Epoch 19/50\n",
            "87/87 [==============================] - 1s 8ms/step - loss: 0.6025 - accuracy: 0.6710 - val_loss: 0.7551 - val_accuracy: 0.5406\n",
            "Epoch 20/50\n",
            "87/87 [==============================] - 1s 9ms/step - loss: 0.6016 - accuracy: 0.6764 - val_loss: 0.7607 - val_accuracy: 0.5410\n",
            "Epoch 21/50\n",
            "87/87 [==============================] - 1s 10ms/step - loss: 0.6014 - accuracy: 0.6717 - val_loss: 0.7560 - val_accuracy: 0.5406\n",
            "Epoch 22/50\n",
            "87/87 [==============================] - 1s 11ms/step - loss: 0.6023 - accuracy: 0.6667 - val_loss: 0.7450 - val_accuracy: 0.5414\n",
            "Epoch 23/50\n",
            "87/87 [==============================] - 1s 10ms/step - loss: 0.6007 - accuracy: 0.6732 - val_loss: 0.7514 - val_accuracy: 0.5357\n",
            "Epoch 24/50\n",
            "87/87 [==============================] - 1s 9ms/step - loss: 0.5994 - accuracy: 0.6761 - val_loss: 0.7648 - val_accuracy: 0.5422\n",
            "Epoch 25/50\n",
            "87/87 [==============================] - 1s 8ms/step - loss: 0.6013 - accuracy: 0.6692 - val_loss: 0.7645 - val_accuracy: 0.5410\n",
            "Epoch 26/50\n",
            "87/87 [==============================] - 1s 8ms/step - loss: 0.5983 - accuracy: 0.6746 - val_loss: 0.7748 - val_accuracy: 0.5450\n",
            "Epoch 27/50\n",
            "87/87 [==============================] - 1s 7ms/step - loss: 0.5995 - accuracy: 0.6717 - val_loss: 0.7577 - val_accuracy: 0.5394\n",
            "Epoch 28/50\n",
            "87/87 [==============================] - 1s 7ms/step - loss: 0.5976 - accuracy: 0.6721 - val_loss: 0.7610 - val_accuracy: 0.5442\n",
            "Epoch 29/50\n",
            "87/87 [==============================] - 1s 7ms/step - loss: 0.5972 - accuracy: 0.6750 - val_loss: 0.7574 - val_accuracy: 0.5353\n",
            "Epoch 30/50\n",
            "87/87 [==============================] - 1s 7ms/step - loss: 0.5986 - accuracy: 0.6674 - val_loss: 0.7575 - val_accuracy: 0.5402\n",
            "Epoch 31/50\n",
            "87/87 [==============================] - 1s 7ms/step - loss: 0.5966 - accuracy: 0.6699 - val_loss: 0.7702 - val_accuracy: 0.5373\n",
            "Epoch 32/50\n",
            "87/87 [==============================] - 1s 8ms/step - loss: 0.5966 - accuracy: 0.6761 - val_loss: 0.7622 - val_accuracy: 0.5378\n",
            "Epoch 33/50\n",
            "87/87 [==============================] - 1s 7ms/step - loss: 0.5949 - accuracy: 0.6757 - val_loss: 0.7704 - val_accuracy: 0.5406\n",
            "Epoch 34/50\n",
            "87/87 [==============================] - 1s 8ms/step - loss: 0.5950 - accuracy: 0.6790 - val_loss: 0.7549 - val_accuracy: 0.5382\n",
            "Epoch 35/50\n",
            "87/87 [==============================] - 1s 7ms/step - loss: 0.5943 - accuracy: 0.6764 - val_loss: 0.7576 - val_accuracy: 0.5414\n",
            "Epoch 36/50\n",
            "87/87 [==============================] - 1s 7ms/step - loss: 0.5959 - accuracy: 0.6717 - val_loss: 0.7703 - val_accuracy: 0.5450\n",
            "Epoch 37/50\n",
            "87/87 [==============================] - 1s 7ms/step - loss: 0.5948 - accuracy: 0.6736 - val_loss: 0.7789 - val_accuracy: 0.5418\n",
            "Epoch 38/50\n",
            "87/87 [==============================] - 1s 8ms/step - loss: 0.5924 - accuracy: 0.6779 - val_loss: 0.7598 - val_accuracy: 0.5422\n",
            "Epoch 39/50\n",
            "87/87 [==============================] - 1s 7ms/step - loss: 0.5922 - accuracy: 0.6764 - val_loss: 0.7679 - val_accuracy: 0.5398\n",
            "Epoch 40/50\n",
            "87/87 [==============================] - 1s 9ms/step - loss: 0.5916 - accuracy: 0.6772 - val_loss: 0.7827 - val_accuracy: 0.5406\n",
            "Epoch 41/50\n",
            "87/87 [==============================] - 1s 11ms/step - loss: 0.5930 - accuracy: 0.6775 - val_loss: 0.7718 - val_accuracy: 0.5406\n",
            "Epoch 42/50\n",
            "87/87 [==============================] - 1s 10ms/step - loss: 0.5917 - accuracy: 0.6728 - val_loss: 0.7835 - val_accuracy: 0.5422\n",
            "Epoch 43/50\n",
            "87/87 [==============================] - 1s 10ms/step - loss: 0.5903 - accuracy: 0.6783 - val_loss: 0.7788 - val_accuracy: 0.5390\n",
            "Epoch 44/50\n",
            "87/87 [==============================] - 1s 9ms/step - loss: 0.5906 - accuracy: 0.6801 - val_loss: 0.7622 - val_accuracy: 0.5414\n",
            "Epoch 45/50\n",
            "87/87 [==============================] - 1s 6ms/step - loss: 0.5895 - accuracy: 0.6764 - val_loss: 0.7742 - val_accuracy: 0.5402\n",
            "Epoch 46/50\n",
            "87/87 [==============================] - 1s 8ms/step - loss: 0.5891 - accuracy: 0.6808 - val_loss: 0.7896 - val_accuracy: 0.5402\n",
            "Epoch 47/50\n",
            "87/87 [==============================] - 1s 8ms/step - loss: 0.5901 - accuracy: 0.6790 - val_loss: 0.7686 - val_accuracy: 0.5382\n",
            "Epoch 48/50\n",
            "87/87 [==============================] - 1s 8ms/step - loss: 0.5898 - accuracy: 0.6772 - val_loss: 0.7664 - val_accuracy: 0.5365\n",
            "Epoch 49/50\n",
            "87/87 [==============================] - 1s 7ms/step - loss: 0.5870 - accuracy: 0.6812 - val_loss: 0.7803 - val_accuracy: 0.5390\n",
            "Epoch 50/50\n",
            "87/87 [==============================] - 1s 8ms/step - loss: 0.5876 - accuracy: 0.6819 - val_loss: 0.7582 - val_accuracy: 0.5321\n"
          ]
        }
      ]
    },
    {
      "cell_type": "code",
      "source": [
        "#sprawdzamy model o innej ilosci warstw\n",
        "\"\"\"\n",
        "merged = concatenate([output_feat, embedding_win])\n",
        "merged = Dense(64, activation = 'relu')(merged)\n",
        "#merged = Dense(64, activation = 'relu')(merged)\n",
        "output = Dense(1, activation = 'sigmoid')(merged)\n",
        "\n",
        "model_win_2 = Model(inputs = [input_embedding_win, input_embedding_feat], outputs = output)\n",
        "model_win_2.compile(optimizer='adam', loss = 'binary_crossentropy', metrics = ['accuracy'])\n",
        "model_win_2.summary()\n",
        "\"\"\""
      ],
      "metadata": {
        "id": "AH-5JkuN4wrh"
      },
      "execution_count": null,
      "outputs": []
    },
    {
      "cell_type": "code",
      "source": [
        "#r_2 = model_win_2.fit([X_train_id, X_train_id], y_train_win, epochs = 50, validation_data = ([X_valid_id,X_valid_id] , y_valid_win))"
      ],
      "metadata": {
        "id": "5XuZTLSH4_Nh"
      },
      "execution_count": null,
      "outputs": []
    },
    {
      "cell_type": "code",
      "source": [
        "plt.plot(r.history['accuracy'], label = 'accuracy', color = 'red')\n",
        "plt.plot(r.history['val_accuracy'], label = 'val_accuracy', color = 'blue')\n",
        "\n",
        "\"\"\"\n",
        "plt.plot(r_2.history['accuracy'], label = 'accuracy_2', color = 'blue')\n",
        "plt.plot(r_2.history['val_accuracy'], label = 'val_accuracy_2', color = 'blue')\n",
        "\"\"\"\n",
        "plt.title('win with ' + feature + ' accuracy plot')\n",
        "plt.legend()\n",
        "\n",
        "\"\"\"\n",
        "filename_acc = '/content/win_accuracy_plot-' + feature + '.png'\n",
        "plt.savefig(filename_acc, format = 'png')\n",
        "\"\"\""
      ],
      "metadata": {
        "id": "hXUeLl3RiXU9",
        "colab": {
          "base_uri": "https://localhost:8080/",
          "height": 470
        },
        "outputId": "976c4601-56d1-4af7-c60c-b381a582877a"
      },
      "execution_count": null,
      "outputs": [
        {
          "output_type": "execute_result",
          "data": {
            "text/plain": [
              "\"\\nfilename_acc = '/content/win_accuracy_plot-' + feature + '.png'\\nplt.savefig(filename_acc, format = 'png')\\n\""
            ],
            "application/vnd.google.colaboratory.intrinsic+json": {
              "type": "string"
            }
          },
          "metadata": {},
          "execution_count": 261
        },
        {
          "output_type": "display_data",
          "data": {
            "text/plain": [
              "<Figure size 640x480 with 1 Axes>"
            ],
            "image/png": "[encoded data removed]"
          },
          "metadata": {}
        }
      ]
    },
    {
      "cell_type": "code",
      "source": [
        "plt.plot(r.history['loss'], label = 'loss', color = 'red')\n",
        "plt.plot(r.history['val_loss'], label = 'val_loss', color = 'blue')\n",
        "\"\"\"\n",
        "plt.plot(r_2.history['loss'], label = 'loss_2', color = 'blue')\n",
        "plt.plot(r_2.history['val_loss'], label = 'val_loss_2', color = 'blue')\n",
        "\"\"\"\n",
        "plt.title('win with ' + feature + ' loss plot')\n",
        "plt.legend()\n",
        "\n",
        "\"\"\"\n",
        "filename_loss = '/content/win_loss_plot-' + feature + '.png'\n",
        "plt.savefig(filename_loss, format = 'png')\n",
        "\"\"\""
      ],
      "metadata": {
        "id": "JB6TKK500ZL2",
        "colab": {
          "base_uri": "https://localhost:8080/",
          "height": 470
        },
        "outputId": "78484bc9-94f8-4377-f4e7-67e435692994"
      },
      "execution_count": null,
      "outputs": [
        {
          "output_type": "execute_result",
          "data": {
            "text/plain": [
              "\"\\nfilename_loss = '/content/win_loss_plot-' + feature + '.png'\\nplt.savefig(filename_loss, format = 'png')\\n\""
            ],
            "application/vnd.google.colaboratory.intrinsic+json": {
              "type": "string"
            }
          },
          "metadata": {},
          "execution_count": 262
        },
        {
          "output_type": "display_data",
          "data": {
            "text/plain": [
              "<Figure size 640x480 with 1 Axes>"
            ],
            "image/png": "[encoded data removed]"
          },
          "metadata": {}
        }
      ]
    },
    {
      "cell_type": "code",
      "source": [
        "#SPRAWDZANIE DOPASOWANIA WARSTW DO DANYCH\n",
        "\"\"\"\n",
        "1 warstwa Dense lepszy dla:\n",
        "PTS_home\n",
        "FG_PCT_home acc+ loss-\n",
        "FG3_PCT_home\n",
        "REB_home acc+\n",
        "PTS_AWAY acc+\n",
        "FT_PCT_AWAY acc+\n",
        "\"\"\"\n",
        "\n",
        "\"\"\"\n",
        "liczba_wiekszych_loss = sum([1 for i in range(len(r.history['val_loss'])) if r_2.history['val_loss'][i] < r.history['val_loss'][i]])\n",
        "liczba_wiekszych_acc = sum([1 for i in range(len(r.history['val_accuracy'])) if r_2.history['val_accuracy'][i] > r.history['val_accuracy'][i]])\n",
        "a = True if liczba_wiekszych_loss > 25 else False\n",
        "b = True if liczba_wiekszych_acc > 25 else False\n",
        "print(f\"epoki z wiekszym acc w modelu_2: {b}, loss mniejsze w modelu_2: {a}, dla modelu z cecha: {feature}\")\n",
        "\"\"\""
      ],
      "metadata": {
        "colab": {
          "base_uri": "https://localhost:8080/",
          "height": 35
        },
        "id": "Dkr79usvGKLp",
        "outputId": "1611e55c-e454-4465-8f26-4968892a0a30"
      },
      "execution_count": null,
      "outputs": [
        {
          "output_type": "execute_result",
          "data": {
            "text/plain": [
              "'\\n1 warstwa Dense lepszy dla:\\nPTS_home\\nFG_PCT_home acc+ loss-\\nFG3_PCT_home\\nREB_home acc+\\nPTS_AWAY acc+\\nFT_PCT_AWAY acc+\\n'"
            ],
            "application/vnd.google.colaboratory.intrinsic+json": {
              "type": "string"
            }
          },
          "metadata": {},
          "execution_count": 263
        }
      ]
    },
    {
      "cell_type": "code",
      "source": [
        "\n",
        "\"\"\"\n",
        "from google.colab import files\n",
        "\n",
        "files.download(filename_acc)\n",
        "files.download(filename_loss)\n",
        "\"\"\"\n"
      ],
      "metadata": {
        "id": "iivazPXinlcb",
        "colab": {
          "base_uri": "https://localhost:8080/",
          "height": 35
        },
        "outputId": "0be86440-2877-410f-97fb-6f58503fedb8"
      },
      "execution_count": null,
      "outputs": [
        {
          "output_type": "execute_result",
          "data": {
            "text/plain": [
              "'\\nfrom google.colab import files\\n\\nfiles.download(filename_acc)\\nfiles.download(filename_loss)\\n'"
            ],
            "application/vnd.google.colaboratory.intrinsic+json": {
              "type": "string"
            }
          },
          "metadata": {},
          "execution_count": 264
        }
      ]
    },
    {
      "cell_type": "code",
      "source": [],
      "metadata": {
        "id": "0cOir0r8Hmmf"
      },
      "execution_count": null,
      "outputs": []
    }
  ]
}